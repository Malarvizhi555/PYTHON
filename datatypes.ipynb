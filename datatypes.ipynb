{
 "cells": [
  {
   "cell_type": "code",
   "execution_count": 2,
   "id": "349e5bdb-a72b-40ee-ac31-7f93555fbdb6",
   "metadata": {},
   "outputs": [
    {
     "name": "stdout",
     "output_type": "stream",
     "text": [
      "<class 'str'>\n"
     ]
    }
   ],
   "source": [
    "#DATA TYPES\n",
    "#String\n",
    "\n",
    "M=\"555@Malar\"\n",
    "print(type(M))"
   ]
  },
  {
   "cell_type": "code",
   "execution_count": 3,
   "id": "fad03cb3-f0ce-4108-beac-d5f490213035",
   "metadata": {},
   "outputs": [
    {
     "name": "stdout",
     "output_type": "stream",
     "text": [
      "<class 'int'>\n"
     ]
    }
   ],
   "source": [
    "#Numeric Type\n",
    "#Integer\n",
    "\n",
    "k = 55\n",
    "print(type(k))"
   ]
  },
  {
   "cell_type": "code",
   "execution_count": 4,
   "id": "2d5f4054-415d-429b-900d-e2e5640bf118",
   "metadata": {},
   "outputs": [
    {
     "name": "stdout",
     "output_type": "stream",
     "text": [
      "<class 'float'>\n"
     ]
    }
   ],
   "source": [
    "#Float\n",
    "\n",
    "Ra = 111.1\n",
    "print(type(Ra))"
   ]
  },
  {
   "cell_type": "code",
   "execution_count": 5,
   "id": "6b5bf14d-95b6-4aab-a6a2-1e9073475be0",
   "metadata": {},
   "outputs": [
    {
     "name": "stdout",
     "output_type": "stream",
     "text": [
      "<class 'complex'>\n"
     ]
    }
   ],
   "source": [
    "#Complex\n",
    "\n",
    "Ma = 5.1j\n",
    "print(type(Ma))"
   ]
  },
  {
   "cell_type": "code",
   "execution_count": 8,
   "id": "deef9bef-e666-4976-9172-c17de3f4164c",
   "metadata": {},
   "outputs": [
    {
     "data": {
      "text/plain": [
       "55"
      ]
     },
     "execution_count": 8,
     "metadata": {},
     "output_type": "execute_result"
    }
   ],
   "source": [
    "#CASTING\n",
    "H = 55\n",
    "H"
   ]
  },
  {
   "cell_type": "code",
   "execution_count": 10,
   "id": "eaef99b3-906f-470d-bf7e-14f2607bac36",
   "metadata": {},
   "outputs": [],
   "source": [
    "MM=55"
   ]
  },
  {
   "cell_type": "code",
   "execution_count": 12,
   "id": "756abfb0-3ee1-4ba3-9f33-fd322ce771b0",
   "metadata": {},
   "outputs": [
    {
     "data": {
      "text/plain": [
       "(55+0j)"
      ]
     },
     "execution_count": 12,
     "metadata": {},
     "output_type": "execute_result"
    }
   ],
   "source": [
    "Lay= complex(55)\n",
    "Lay"
   ]
  },
  {
   "cell_type": "code",
   "execution_count": 13,
   "id": "c5f80a52-f642-4212-8716-9a5c63a58dff",
   "metadata": {},
   "outputs": [
    {
     "data": {
      "text/plain": [
       "5552.0"
      ]
     },
     "execution_count": 13,
     "metadata": {},
     "output_type": "execute_result"
    }
   ],
   "source": [
    "yow = float(5552)\n",
    "yow"
   ]
  },
  {
   "cell_type": "code",
   "execution_count": 1,
   "id": "32c23c74-d78d-442d-9ecf-eb85ec70b5b8",
   "metadata": {},
   "outputs": [
    {
     "name": "stdout",
     "output_type": "stream",
     "text": [
      "7\n"
     ]
    }
   ],
   "source": [
    "j = str(7)\n",
    "print(str(j))"
   ]
  },
  {
   "cell_type": "code",
   "execution_count": 16,
   "id": "151786e7-93b0-4514-a60a-c00429315e29",
   "metadata": {},
   "outputs": [
    {
     "name": "stdout",
     "output_type": "stream",
     "text": [
      "11.0\n",
      "554.0\n"
     ]
    }
   ],
   "source": [
    "ball = 11+554j\n",
    "print(ball.real)\n",
    "print(ball.imag)"
   ]
  },
  {
   "cell_type": "code",
   "execution_count": 17,
   "id": "4b5783f3-51d3-4995-aadf-a700b9949332",
   "metadata": {},
   "outputs": [
    {
     "name": "stdout",
     "output_type": "stream",
     "text": [
      "11\n",
      "11.1\n",
      "(11.1+0j)\n"
     ]
    }
   ],
   "source": [
    "j=11.1\n",
    "j1=int(j)\n",
    "j2=str(j)\n",
    "j3=complex(j)\n",
    "print(j1)\n",
    "print(j2)\n",
    "print(j3)"
   ]
  },
  {
   "cell_type": "code",
   "execution_count": 18,
   "id": "514ab87e-64ef-45a7-afe8-950992efe534",
   "metadata": {},
   "outputs": [],
   "source": [
    "M=int(55.4)"
   ]
  },
  {
   "cell_type": "code",
   "execution_count": 19,
   "id": "fecb6ab6-33da-423d-b79d-c0b11d68e904",
   "metadata": {},
   "outputs": [],
   "source": [
    " k1=str(k)"
   ]
  },
  {
   "cell_type": "code",
   "execution_count": 20,
   "id": "deea979a-71c7-48cd-b4a3-b4b9d91215ee",
   "metadata": {},
   "outputs": [
    {
     "name": "stdout",
     "output_type": "stream",
     "text": [
      "55\n"
     ]
    }
   ],
   "source": [
    "k2=int(k)\n",
    "print(k2)"
   ]
  },
  {
   "cell_type": "code",
   "execution_count": null,
   "id": "a26c51d8-abe0-4d4a-955c-a39a85ab8a77",
   "metadata": {},
   "outputs": [],
   "source": []
  }
 ],
 "metadata": {
  "kernelspec": {
   "display_name": "Python [conda env:anaconda3]",
   "language": "python",
   "name": "conda-env-anaconda3-py"
  },
  "language_info": {
   "codemirror_mode": {
    "name": "ipython",
    "version": 3
   },
   "file_extension": ".py",
   "mimetype": "text/x-python",
   "name": "python",
   "nbconvert_exporter": "python",
   "pygments_lexer": "ipython3",
   "version": "3.13.5"
  }
 },
 "nbformat": 4,
 "nbformat_minor": 5
}
