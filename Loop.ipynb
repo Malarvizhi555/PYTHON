{
 "cells": [
  {
   "cell_type": "code",
   "execution_count": 3,
   "id": "f5b9101f-7947-4229-9019-9cf4a724310c",
   "metadata": {},
   "outputs": [
    {
     "name": "stdout",
     "output_type": "stream",
     "text": [
      "Frist pair\n",
      "Min : 5 Max : 17\n",
      "Second pair\n",
      "Min : 5 Max : 10\n"
     ]
    }
   ],
   "source": [
    "l = [5,6,8,10,7,17]\n",
    "low= l[0]\n",
    "high= l[0]\n",
    "\n",
    "for m in l:\n",
    "    if m < low:\n",
    "        low = m\n",
    "    elif m > high:\n",
    "        high = m\n",
    "print (\"Frist pair\")\n",
    "print(\"Min :\", low, \"Max :\", high)\n",
    "\n",
    "\n",
    "low2= l[1]\n",
    "high2= l[1]\n",
    "\n",
    "for m in l[:4]:\n",
    "    if m < low2:\n",
    "        low2 = m\n",
    "    elif m > high2:\n",
    "        high2 = m\n",
    "print (\"Second pair\")\n",
    "print(\"Min :\", low2, \"Max :\", high2)\n"
   ]
  },
  {
   "cell_type": "code",
   "execution_count": 14,
   "id": "f2b91640-ad11-46c7-9412-b3ff99b48383",
   "metadata": {},
   "outputs": [
    {
     "name": "stdout",
     "output_type": "stream",
     "text": [
      "0\n",
      "1\n",
      "2\n",
      "3\n",
      "4\n",
      "5\n",
      "6\n",
      "7\n",
      "8\n",
      "9\n"
     ]
    }
   ],
   "source": [
    "for i in range(10):\n",
    "  print(i)"
   ]
  },
  {
   "cell_type": "code",
   "execution_count": 15,
   "id": "8a23ac86-783a-446f-84e8-854c4b6aa797",
   "metadata": {},
   "outputs": [
    {
     "name": "stdout",
     "output_type": "stream",
     "text": [
      "4\n",
      "5\n",
      "6\n",
      "7\n",
      "8\n",
      "9\n"
     ]
    }
   ],
   "source": [
    "for i in range(4,10):\n",
    "    print(i)\n"
   ]
  },
  {
   "cell_type": "code",
   "execution_count": 16,
   "id": "c269861b-3a7b-46cc-bf40-364d8aa3aff0",
   "metadata": {},
   "outputs": [
    {
     "name": "stdout",
     "output_type": "stream",
     "text": [
      "1\n",
      "2\n",
      "3\n",
      "4\n",
      "5\n",
      "6\n",
      "7\n",
      "8\n",
      "9\n",
      "10\n"
     ]
    }
   ],
   "source": [
    "for i in range (1,11):\n",
    "    print(i)"
   ]
  },
  {
   "cell_type": "code",
   "execution_count": 17,
   "id": "2881a309-699b-48dd-8fe9-8ce1c235d4d5",
   "metadata": {},
   "outputs": [
    {
     "name": "stdout",
     "output_type": "stream",
     "text": [
      "1\n",
      "3\n",
      "5\n",
      "7\n",
      "9\n"
     ]
    }
   ],
   "source": [
    "for i in range (1,11,2):\n",
    "    print(i)"
   ]
  },
  {
   "cell_type": "code",
   "execution_count": 25,
   "id": "3fa3fb0f-91bb-479b-9a6c-d8efa7205e40",
   "metadata": {},
   "outputs": [
    {
     "name": "stdout",
     "output_type": "stream",
     "text": [
      "4\n"
     ]
    }
   ],
   "source": [
    "for i in range (1,11):\n",
    "  if i == 4:\n",
    "      print(4)"
   ]
  },
  {
   "cell_type": "code",
   "execution_count": 29,
   "id": "979e619b-194e-47b3-bef2-d1c5b88b6f0c",
   "metadata": {},
   "outputs": [
    {
     "name": "stdout",
     "output_type": "stream",
     "text": [
      "Yes\n",
      "No\n"
     ]
    }
   ],
   "source": [
    "for i in range (1,11):\n",
    "    if i == 4:\n",
    "        print(\"Yes\")\n",
    "    elif i == 7:\n",
    "        print(\"No\")\n",
    "    "
   ]
  },
  {
   "cell_type": "code",
   "execution_count": 28,
   "id": "d71b7763-0319-4b2d-b66e-e9361166a134",
   "metadata": {},
   "outputs": [
    {
     "name": "stdout",
     "output_type": "stream",
     "text": [
      "10\n",
      "10\n",
      "10\n",
      "Yes\n",
      "10\n",
      "10\n",
      "No\n",
      "10\n",
      "10\n",
      "10\n"
     ]
    }
   ],
   "source": [
    "for i in range (1,11):\n",
    "    if i == 4:\n",
    "        print(\"Yes\")\n",
    "    elif i == 7:\n",
    "        print(\"No\")\n",
    "    else:\n",
    "        print(10)"
   ]
  },
  {
   "cell_type": "code",
   "execution_count": 30,
   "id": "e93afbf1-c39a-4151-a966-76a9ae45fff1",
   "metadata": {},
   "outputs": [
    {
     "name": "stdout",
     "output_type": "stream",
     "text": [
      "0\n",
      "1\n",
      "2\n",
      "3\n",
      "4\n"
     ]
    }
   ],
   "source": [
    "for i in range(11):\n",
    "    if i == 5:\n",
    "        break\n",
    "    print(i)"
   ]
  },
  {
   "cell_type": "raw",
   "id": "d0a79e1c-c214-4dbc-9fb4-2037906b669b",
   "metadata": {},
   "source": [
    "l = [1, 3, 4, 5, 17]\n",
    "\n",
    "for i in l:\n",
    "    print(i)"
   ]
  },
  {
   "cell_type": "code",
   "execution_count": 40,
   "id": "ae5b6c9c-b36e-4225-83b3-3ad7a2c8e4c3",
   "metadata": {},
   "outputs": [
    {
     "name": "stdout",
     "output_type": "stream",
     "text": [
      "0 1\n",
      "1 2\n",
      "2 3\n",
      "3 4\n",
      "4 5\n",
      "5 6\n"
     ]
    }
   ],
   "source": [
    "l = [1, 2, 3, 4, 5, 6]\n",
    "\n",
    "for i,j in enumerate (l):\n",
    "    print(i, j)"
   ]
  },
  {
   "cell_type": "code",
   "execution_count": 44,
   "id": "3529d68c-17b8-4965-b583-108239829c8e",
   "metadata": {},
   "outputs": [
    {
     "name": "stdout",
     "output_type": "stream",
     "text": [
      "apple\n",
      "banana\n",
      "cherry\n"
     ]
    }
   ],
   "source": [
    "#for loops\n",
    "\n",
    "fruits = [\"apple\", \"banana\", \"cherry\"]\n",
    "for i in fruits:\n",
    "    print(i)"
   ]
  },
  {
   "cell_type": "code",
   "execution_count": 45,
   "id": "75daada3-198f-42ee-a5ee-8d3eac4ebf34",
   "metadata": {},
   "outputs": [
    {
     "name": "stdout",
     "output_type": "stream",
     "text": [
      "b\n",
      "a\n",
      "n\n",
      "a\n",
      "n\n",
      "a\n"
     ]
    }
   ],
   "source": [
    "# a is sting\n",
    "a = \"banana\"\n",
    "for k in a:\n",
    "    print(k)"
   ]
  },
  {
   "cell_type": "code",
   "execution_count": 46,
   "id": "accabe6b-590e-4d3b-98fb-6f468588d8e8",
   "metadata": {},
   "outputs": [
    {
     "name": "stdout",
     "output_type": "stream",
     "text": [
      "1\n",
      "3\n",
      "4\n",
      "545\n",
      "1\n",
      "4\n",
      "3\n"
     ]
    }
   ],
   "source": [
    "l=[1,3,4,545,1,4,3]\n",
    "for i in l:\n",
    "    print(i)"
   ]
  },
  {
   "cell_type": "code",
   "execution_count": 47,
   "id": "7a199980-3dd4-4313-8825-24d44e70fa72",
   "metadata": {},
   "outputs": [
    {
     "name": "stdout",
     "output_type": "stream",
     "text": [
      "0\n",
      "1\n",
      "2\n",
      "3\n",
      "4\n",
      "6\n",
      "7\n",
      "8\n",
      "9\n",
      "10\n"
     ]
    }
   ],
   "source": [
    "#skip one step and goes to next  is called condition , so when i = 5 print(i) will not run\n",
    "for i in range(11):\n",
    "    if i == 5:\n",
    "        continue\n",
    "    print(i)"
   ]
  },
  {
   "cell_type": "code",
   "execution_count": 48,
   "id": "9b2b3743-aaed-4ac1-94a0-89a4691abfc0",
   "metadata": {},
   "outputs": [
    {
     "name": "stdout",
     "output_type": "stream",
     "text": [
      "2\n",
      "3\n",
      "4\n",
      "5\n",
      "6\n",
      "7\n",
      "8\n",
      "9\n",
      "10\n",
      "11\n",
      "12\n",
      "13\n",
      "14\n",
      "15\n",
      "16\n",
      "17\n",
      "18\n",
      "19\n",
      "20\n",
      "21\n",
      "22\n",
      "23\n",
      "24\n",
      "25\n",
      "26\n",
      "27\n",
      "28\n",
      "29\n",
      "30\n",
      "31\n",
      "32\n",
      "33\n",
      "34\n",
      "35\n",
      "36\n",
      "37\n",
      "38\n",
      "39\n",
      "40\n",
      "41\n",
      "42\n",
      "43\n",
      "44\n",
      "45\n",
      "46\n",
      "47\n",
      "48\n",
      "49\n",
      "50\n",
      "51\n",
      "52\n",
      "53\n",
      "54\n",
      "55\n",
      "56\n",
      "57\n",
      "58\n",
      "59\n"
     ]
    }
   ],
   "source": [
    "for x in range (2,60):\n",
    "    print(x)"
   ]
  },
  {
   "cell_type": "code",
   "execution_count": 50,
   "id": "5c65f15e-579d-4929-b106-4f324b02f47f",
   "metadata": {},
   "outputs": [
    {
     "name": "stdout",
     "output_type": "stream",
     "text": [
      "2\n",
      "5\n",
      "8\n",
      "11\n",
      "14\n",
      "17\n",
      "20\n",
      "23\n",
      "26\n",
      "29\n"
     ]
    }
   ],
   "source": [
    "#start, stop, step(2, 30, 3)\n",
    "\n",
    "for i in range (2,30,3):\n",
    "     print(i)\n",
    "  "
   ]
  },
  {
   "cell_type": "code",
   "execution_count": 54,
   "id": "e3be1f0e-17b6-4ada-80c6-3484de626fc0",
   "metadata": {},
   "outputs": [],
   "source": [
    "#pass --> placehlolder statement\n",
    "\n",
    "for i in range (2,30):\n",
    "    pass"
   ]
  },
  {
   "cell_type": "code",
   "execution_count": 56,
   "id": "c351f9ee-ce8d-48ed-bbd6-f760fe54288e",
   "metadata": {},
   "outputs": [
    {
     "name": "stdout",
     "output_type": "stream",
     "text": [
      "2\n",
      "5\n"
     ]
    }
   ],
   "source": [
    "for x in range (2, 30, 3):\n",
    "    if x==8:\n",
    "        break\n",
    "    print(x)\n",
    "    "
   ]
  },
  {
   "cell_type": "code",
   "execution_count": 62,
   "id": "9ab0c9a2-7ba7-48e1-9107-7a86c6411e5d",
   "metadata": {},
   "outputs": [
    {
     "name": "stdout",
     "output_type": "stream",
     "text": [
      "2\n",
      "5\n"
     ]
    }
   ],
   "source": [
    "for x in range (2, 30, 3):\n",
    "    if x==8:\n",
    "        break\n",
    "    print(x)"
   ]
  },
  {
   "cell_type": "code",
   "execution_count": 63,
   "id": "19b92cb1-d69b-40d7-b5aa-1b4fca73edf4",
   "metadata": {},
   "outputs": [
    {
     "name": "stdout",
     "output_type": "stream",
     "text": [
      "2\n",
      "5\n",
      "8\n",
      "11\n",
      "14\n"
     ]
    }
   ],
   "source": [
    "#x = 17 → check x == 17? → Yes ✅ → break(conditional satsify) → loop stops immediately 🚫\n",
    "\n",
    "for x in range (2, 30, 3):\n",
    "    if x==17:\n",
    "        break\n",
    "    print(x)"
   ]
  },
  {
   "cell_type": "code",
   "execution_count": 3,
   "id": "39c8b7e2-799c-4345-a70e-d34da7e2ebc9",
   "metadata": {},
   "outputs": [
    {
     "name": "stdout",
     "output_type": "stream",
     "text": [
      "2\n",
      "5\n",
      "8\n",
      "11\n",
      "14\n",
      "17\n",
      "20\n",
      "23\n",
      "26\n",
      "29\n"
     ]
    }
   ],
   "source": [
    "#x = 17 → check x == 15? → No → print 17 ❌ wait… careful!\n",
    "\n",
    "for x in range (2, 30, 3):\n",
    "    if x==15:\n",
    "        break\n",
    "    print(x) "
   ]
  },
  {
   "cell_type": "code",
   "execution_count": 65,
   "id": "e73b8079-24d9-41a0-8652-ffa0992d77f7",
   "metadata": {},
   "outputs": [
    {
     "name": "stdout",
     "output_type": "stream",
     "text": [
      "1 odd\n",
      "98 even\n",
      "3 odd\n",
      "5 odd\n",
      "8 even\n"
     ]
    }
   ],
   "source": [
    "#k is a set → it stores unique numbers, unordered.\n",
    "#% is the modulus operator → it gives remainder after division.\n",
    "#If remainder = 0 → number is even.\n",
    "#Else → number is odd.\n",
    "\n",
    "k ={1,3,5,8,98}\n",
    "for i in k:\n",
    "    if i % 2 == 0:\n",
    "        print(i, \"even\")\n",
    "    else:\n",
    "        print(i, \"odd\")"
   ]
  },
  {
   "cell_type": "code",
   "execution_count": 66,
   "id": "47377b4b-3fab-405d-95fc-c7abc725855a",
   "metadata": {},
   "outputs": [
    {
     "name": "stdout",
     "output_type": "stream",
     "text": [
      "98 even\n",
      "8 even\n"
     ]
    }
   ],
   "source": [
    "k ={1,3,5,8,98}\n",
    "for i in k:\n",
    "    if i % 2 == 0:\n",
    "        print(i, \"even\")"
   ]
  },
  {
   "cell_type": "code",
   "execution_count": 67,
   "id": "6153c2c6-7e95-472b-9087-2f5d55c0b1cd",
   "metadata": {},
   "outputs": [
    {
     "name": "stdout",
     "output_type": "stream",
     "text": [
      "k\n",
      "k2\n",
      "j1\n"
     ]
    }
   ],
   "source": [
    "#.keys() gives only the keys of the dictionary.\n",
    "\n",
    "l={\"k\":1,\"k2\":3,\"j1\":7}\n",
    "for i in l.keys():\n",
    "    print(i)"
   ]
  },
  {
   "cell_type": "code",
   "execution_count": 68,
   "id": "8455d3b9-cf77-4a3b-b5f1-e666df26c6c1",
   "metadata": {},
   "outputs": [
    {
     "name": "stdout",
     "output_type": "stream",
     "text": [
      "1\n",
      "3\n",
      "7\n"
     ]
    }
   ],
   "source": [
    "#.values() gives only the values of the dictionary.\n",
    "l={\"k\":1,\"k2\":3,\"j1\":7}\n",
    "for i in l.values():\n",
    "    print(i)"
   ]
  },
  {
   "cell_type": "code",
   "execution_count": 71,
   "id": "cb5da85e-e568-40e7-8096-aa9abc58f79e",
   "metadata": {},
   "outputs": [
    {
     "name": "stdout",
     "output_type": "stream",
     "text": [
      "('k', 1)\n",
      "('k2', 3)\n",
      "('j1', 7)\n"
     ]
    }
   ],
   "source": [
    "#This is a dictionary → it stores data in key : value pairs.\n",
    "#.items() returns both key and value together as a tuple.\n",
    "l={\"k\":1,\"k2\":3,\"j1\":7}\n",
    "for i in l.items():\n",
    "    print(i)"
   ]
  },
  {
   "cell_type": "code",
   "execution_count": 72,
   "id": "afec9516-0313-423e-b24f-b77079496f8b",
   "metadata": {},
   "outputs": [
    {
     "name": "stdout",
     "output_type": "stream",
     "text": [
      "hi\n",
      "1\n",
      "3\n",
      "3\n",
      "4\n",
      "6\n",
      "8\n",
      "9\n",
      "8\n",
      "7\n",
      "apple\n"
     ]
    }
   ],
   "source": [
    "#l is a tuple.\n",
    "#Tuples are like lists, but immutable (cannot be changed).\n",
    "\n",
    "l=(\"hi\",1,3,3,4,6,8,9,8,7,\"apple\",)\n",
    "for i in l:\n",
    "    print(i)"
   ]
  },
  {
   "cell_type": "code",
   "execution_count": 73,
   "id": "5dc53603-353c-4e65-a09e-7e2f2fadb2bc",
   "metadata": {},
   "outputs": [
    {
     "name": "stdout",
     "output_type": "stream",
     "text": [
      "6\n"
     ]
    }
   ],
   "source": [
    "k=[1,3,45,6,889,90]\n",
    "for i,j in enumerate(k):\n",
    "    if i==3:\n",
    "        print(j)"
   ]
  },
  {
   "cell_type": "code",
   "execution_count": null,
   "id": "3316f052-49e4-41b1-93f4-a19678feadd6",
   "metadata": {},
   "outputs": [],
   "source": []
  }
 ],
 "metadata": {
  "kernelspec": {
   "display_name": "Python [conda env:anaconda3]",
   "language": "python",
   "name": "conda-env-anaconda3-py"
  },
  "language_info": {
   "codemirror_mode": {
    "name": "ipython",
    "version": 3
   },
   "file_extension": ".py",
   "mimetype": "text/x-python",
   "name": "python",
   "nbconvert_exporter": "python",
   "pygments_lexer": "ipython3",
   "version": "3.13.5"
  }
 },
 "nbformat": 4,
 "nbformat_minor": 5
}
