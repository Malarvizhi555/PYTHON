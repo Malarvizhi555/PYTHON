{
 "cells": [
  {
   "cell_type": "code",
   "execution_count": 1,
   "id": "49d4fe39-8ef4-478d-87db-db3b9dad91e5",
   "metadata": {},
   "outputs": [
    {
     "name": "stdout",
     "output_type": "stream",
     "text": [
      "you can't divide by zero\n"
     ]
    }
   ],
   "source": [
    "try:\n",
    "    x = 10/0\n",
    "except ZeroDivisionError:\n",
    "    print(\"you can't divide by zero\")\n"
   ]
  },
  {
   "cell_type": "code",
   "execution_count": 2,
   "id": "35d7ae20-2e16-4ac3-8092-3db20f0d3786",
   "metadata": {},
   "outputs": [
    {
     "name": "stdout",
     "output_type": "stream",
     "text": [
      "That's Not a Number\n"
     ]
    }
   ],
   "source": [
    "#Multiple Exception\n",
    "try: \n",
    "    num = int(\"abc\")\n",
    "except ValueError:\n",
    "    print(\"That's Not a Number\")\n",
    "except ZeroDivisionError:\n",
    "    print(\"Division by Zero Error\")\n",
    "    "
   ]
  },
  {
   "cell_type": "code",
   "execution_count": 4,
   "id": "e3b07fda-4fc2-4447-b923-d194450918a6",
   "metadata": {},
   "outputs": [
    {
     "name": "stdout",
     "output_type": "stream",
     "text": [
      "Division Successful: 51\n",
      "This will always run\n"
     ]
    }
   ],
   "source": [
    "#else and family\n",
    "try:\n",
    "    x=51\n",
    "except ZeroDivisionError:\n",
    "    print(\"Error Cannont divide by zero\")\n",
    "else:\n",
    "    print(\"Division Successful:\", x)\n",
    "finally:\n",
    "    print(\"This will always run\")"
   ]
  },
  {
   "cell_type": "code",
   "execution_count": 7,
   "id": "6ef506f5-a713-4521-810a-8fa0427b305f",
   "metadata": {},
   "outputs": [
    {
     "ename": "ValueError",
     "evalue": "Negative Numbers not allowed",
     "output_type": "error",
     "traceback": [
      "\u001b[1;31m---------------------------------------------------------------------------\u001b[0m",
      "\u001b[1;31mValueError\u001b[0m                                Traceback (most recent call last)",
      "Cell \u001b[1;32mIn[7], line 3\u001b[0m\n\u001b[0;32m      1\u001b[0m x \u001b[38;5;241m=\u001b[39m \u001b[38;5;241m-\u001b[39m\u001b[38;5;241m5\u001b[39m\n\u001b[0;32m      2\u001b[0m \u001b[38;5;28;01mif\u001b[39;00m x\u001b[38;5;241m<\u001b[39m\u001b[38;5;241m0\u001b[39m:\n\u001b[1;32m----> 3\u001b[0m     \u001b[38;5;28;01mraise\u001b[39;00m  \u001b[38;5;167;01mValueError\u001b[39;00m(\u001b[38;5;124m\"\u001b[39m\u001b[38;5;124mNegative Numbers not allowed\u001b[39m\u001b[38;5;124m\"\u001b[39m)\n",
      "\u001b[1;31mValueError\u001b[0m: Negative Numbers not allowed"
     ]
    }
   ],
   "source": [
    "x = -5\n",
    "if x<0:\n",
    "    raise  ValueError(\"Negative Numbers not allowed\")"
   ]
  },
  {
   "cell_type": "code",
   "execution_count": 47,
   "id": "623009d4-ffe6-4c34-a879-f35c4c8b7a05",
   "metadata": {},
   "outputs": [
    {
     "ename": "ValueError",
     "evalue": "Negative numbers not allowed",
     "output_type": "error",
     "traceback": [
      "\u001b[1;31m---------------------------------------------------------------------------\u001b[0m",
      "\u001b[1;31mValueError\u001b[0m                                Traceback (most recent call last)",
      "Cell \u001b[1;32mIn[47], line 5\u001b[0m\n\u001b[0;32m      3\u001b[0m x \u001b[38;5;241m=\u001b[39m \u001b[38;5;241m-\u001b[39m\u001b[38;5;241m5\u001b[39m\n\u001b[0;32m      4\u001b[0m \u001b[38;5;28;01mif\u001b[39;00m x \u001b[38;5;241m<\u001b[39m \u001b[38;5;241m0\u001b[39m:\n\u001b[1;32m----> 5\u001b[0m     \u001b[38;5;28;01mraise\u001b[39;00m \u001b[38;5;167;01mValueError\u001b[39;00m(\u001b[38;5;124m\"\u001b[39m\u001b[38;5;124mNegative numbers not allowed\u001b[39m\u001b[38;5;124m\"\u001b[39m)\n",
      "\u001b[1;31mValueError\u001b[0m: Negative numbers not allowed"
     ]
    }
   ],
   "source": [
    "#Raising Your Own Error (raise)\n",
    "\n",
    "x = -5\n",
    "if x < 0:\n",
    "    raise ValueError(\"Negative numbers not allowed\")"
   ]
  },
  {
   "cell_type": "code",
   "execution_count": 1,
   "id": "566128d0-649f-47fb-a53c-89f87ecbc334",
   "metadata": {},
   "outputs": [
    {
     "name": "stdout",
     "output_type": "stream",
     "text": [
      "some error occured\n"
     ]
    }
   ],
   "source": [
    "#Try - Except\n",
    "\n",
    "try:\n",
    "    num = int(\"abc\")\n",
    "except(ValueError, ZeroDivisionError):\n",
    "    print(\"some error occured\")\n"
   ]
  },
  {
   "cell_type": "code",
   "execution_count": 48,
   "id": "56cc8ab4-47f3-4df8-83da-ae3f6f74a885",
   "metadata": {},
   "outputs": [
    {
     "name": "stdout",
     "output_type": "stream",
     "text": [
      "Invalid number\n"
     ]
    }
   ],
   "source": [
    "#Multiple Except Blocks\n",
    "\n",
    "try:\n",
    "    num = int(\"abc\")\n",
    "except ValueError:\n",
    "    print(\"Invalid number\")\n",
    "except ZeroDivisionError:\n",
    "    print(\"Cannot divide by zero\")\n"
   ]
  },
  {
   "cell_type": "code",
   "execution_count": 49,
   "id": "2a9427e1-e289-4ad9-88ba-fc68ce7dda0c",
   "metadata": {},
   "outputs": [
    {
     "name": "stdout",
     "output_type": "stream",
     "text": [
      "Some error occurred\n"
     ]
    }
   ],
   "source": [
    "#Single Except with Multiple Exceptions\n",
    "\n",
    "try:\n",
    "    num = int(\"abc\")\n",
    "except (ValueError, ZeroDivisionError):\n",
    "    print(\"Some error occurred\")\n"
   ]
  },
  {
   "cell_type": "code",
   "execution_count": 2,
   "id": "32242bc2-2ae5-4730-a60f-a81836271209",
   "metadata": {},
   "outputs": [
    {
     "name": "stdout",
     "output_type": "stream",
     "text": [
      "dont / by 0\n"
     ]
    }
   ],
   "source": [
    "try:\n",
    "    a=1\n",
    "    b=0\n",
    "    print(a/c)\n",
    "except:\n",
    "    print(\"dont / by 0\")"
   ]
  },
  {
   "cell_type": "code",
   "execution_count": 1,
   "id": "e39fd628-db70-4150-bc0e-b1c0d4cf814c",
   "metadata": {},
   "outputs": [
    {
     "name": "stdout",
     "output_type": "stream",
     "text": [
      "Division sucessful\n"
     ]
    }
   ],
   "source": [
    "#try-except-else\n",
    "\n",
    "try:\n",
    "    x= 5/1\n",
    "except ZeroDivisionError:\n",
    "    print (\"Error\")\n",
    "else:\n",
    "    print(\"Division sucessful\")"
   ]
  },
  {
   "cell_type": "code",
   "execution_count": 2,
   "id": "7d30347f-5b4a-4a43-9db5-580f9a1bb9b4",
   "metadata": {},
   "outputs": [
    {
     "name": "stdout",
     "output_type": "stream",
     "text": [
      "File Not Found\n",
      "program Ended\n"
     ]
    }
   ],
   "source": [
    "#try - except - finally\n",
    "\n",
    "try:\n",
    "    f = open (\"data.txt\", \"r\")\n",
    "except FileNotFoundError:\n",
    "    print(\"File Not Found\")\n",
    "finally:\n",
    "    print(\"program Ended\")"
   ]
  },
  {
   "cell_type": "code",
   "execution_count": 4,
   "id": "99f86605-49a6-4a6f-980f-97383f1e05da",
   "metadata": {},
   "outputs": [
    {
     "ename": "AssertionError",
     "evalue": "",
     "output_type": "error",
     "traceback": [
      "\u001b[1;31m---------------------------------------------------------------------------\u001b[0m",
      "\u001b[1;31mAssertionError\u001b[0m                            Traceback (most recent call last)",
      "Cell \u001b[1;32mIn[4], line 4\u001b[0m\n\u001b[0;32m      1\u001b[0m \u001b[38;5;66;03m#using assert\u001b[39;00m\n\u001b[0;32m      3\u001b[0m x\u001b[38;5;241m=\u001b[39m \u001b[38;5;241m10\u001b[39m\n\u001b[1;32m----> 4\u001b[0m \u001b[38;5;28;01massert\u001b[39;00m x \u001b[38;5;241m>\u001b[39m \u001b[38;5;241m10\u001b[39m \n\u001b[0;32m      5\u001b[0m \u001b[38;5;28;01massert\u001b[39;00m x \u001b[38;5;241m<\u001b[39m \u001b[38;5;241m10\u001b[39m\n",
      "\u001b[1;31mAssertionError\u001b[0m: "
     ]
    }
   ],
   "source": [
    "#using assert\n",
    "\n",
    "x= 10\n",
    "assert x > 10 \n",
    "assert x < 10"
   ]
  },
  {
   "cell_type": "code",
   "execution_count": 5,
   "id": "6bd34057-cf28-440d-9cc2-9d5e16d98140",
   "metadata": {},
   "outputs": [
    {
     "name": "stdout",
     "output_type": "stream",
     "text": [
      "caught : This is my custom Error\n"
     ]
    }
   ],
   "source": [
    "#custom Exception (user define)\n",
    "\n",
    "class MyError (Exception):\n",
    "    pass\n",
    "try:\n",
    "    raise MyError(\"This is my custom Error\")\n",
    "except MyError as e:\n",
    "    print(\"caught :\", e)\n"
   ]
  },
  {
   "cell_type": "code",
   "execution_count": 6,
   "id": "22e38c7e-a09d-46d7-9c63-50410c0a1ed3",
   "metadata": {},
   "outputs": [
    {
     "name": "stdout",
     "output_type": "stream",
     "text": [
      "File not found\n"
     ]
    }
   ],
   "source": [
    "#Context Manager (with statement)\n",
    "\n",
    "try:\n",
    "    with open (\"file. txt\", \"r\") as f:\n",
    "        data = f.read()\n",
    "except FileNotFoundError:\n",
    "    print(\"File not found\")\n",
    "    "
   ]
  },
  {
   "cell_type": "code",
   "execution_count": 11,
   "id": "7888adf9-3655-41e3-bd6d-a9474b365286",
   "metadata": {},
   "outputs": [],
   "source": [
    "#Logging Exceptions\n",
    "\n",
    "import logging\n",
    "try:\n",
    "    1/10\n",
    "except ZeroDivisionError as e:\n",
    "    logging.error(\"Error occured : %3\" , e)\n"
   ]
  },
  {
   "cell_type": "code",
   "execution_count": 13,
   "id": "d8286d05-a139-44b1-ab20-bb62d1a250ef",
   "metadata": {},
   "outputs": [
    {
     "ename": "SyntaxError",
     "evalue": "invalid syntax (3494318755.py, line 3)",
     "output_type": "error",
     "traceback": [
      "\u001b[1;36m  Cell \u001b[1;32mIn[13], line 3\u001b[1;36m\u001b[0m\n\u001b[1;33m    from contextlib import supress:\u001b[0m\n\u001b[1;37m                                  ^\u001b[0m\n\u001b[1;31mSyntaxError\u001b[0m\u001b[1;31m:\u001b[0m invalid syntax\n"
     ]
    }
   ],
   "source": [
    "#sappering Exceptions (Contextlib suppress)\n",
    "\n",
    "from contextlib import supress:\n",
    "\n",
    "with suppress(FileNotFoundError):\n",
    "    open(\"no_file.txt\")"
   ]
  },
  {
   "cell_type": "code",
   "execution_count": 15,
   "id": "43c50eef-7b75-431f-a48c-873175817fdb",
   "metadata": {},
   "outputs": [
    {
     "ename": "NameError",
     "evalue": "name 'd' is not defined",
     "output_type": "error",
     "traceback": [
      "\u001b[1;31m---------------------------------------------------------------------------\u001b[0m",
      "\u001b[1;31mNameError\u001b[0m                                 Traceback (most recent call last)",
      "Cell \u001b[1;32mIn[15], line 4\u001b[0m\n\u001b[0;32m      1\u001b[0m \u001b[38;5;66;03m#EAFP (Easier to ask Forgiveness than permission)\u001b[39;00m\n\u001b[0;32m      3\u001b[0m \u001b[38;5;28;01mtry\u001b[39;00m:\n\u001b[1;32m----> 4\u001b[0m     result \u001b[38;5;241m=\u001b[39m d [\u001b[38;5;124m\"\u001b[39m\u001b[38;5;124mkey\u001b[39m\u001b[38;5;124m\"\u001b[39m]\n\u001b[0;32m      5\u001b[0m \u001b[38;5;28;01mexcept\u001b[39;00m \u001b[38;5;167;01mKeyError\u001b[39;00m:\n\u001b[0;32m      6\u001b[0m     result \u001b[38;5;241m=\u001b[39m \u001b[38;5;124m\"\u001b[39m\u001b[38;5;124mDefault Value\u001b[39m\u001b[38;5;124m\"\u001b[39m\n",
      "\u001b[1;31mNameError\u001b[0m: name 'd' is not defined"
     ]
    }
   ],
   "source": [
    "#EAFP (Easier to ask Forgiveness than permission)\n",
    "\n",
    "try:\n",
    "    result = d [\"key\"]\n",
    "except KeyError:\n",
    "    result = \"Default Value\""
   ]
  },
  {
   "cell_type": "code",
   "execution_count": 16,
   "id": "e3f69fd2-fc73-433a-89e5-46f62c086a8f",
   "metadata": {},
   "outputs": [
    {
     "ename": "NameError",
     "evalue": "name 'd' is not defined",
     "output_type": "error",
     "traceback": [
      "\u001b[1;31m---------------------------------------------------------------------------\u001b[0m",
      "\u001b[1;31mNameError\u001b[0m                                 Traceback (most recent call last)",
      "Cell \u001b[1;32mIn[16], line 3\u001b[0m\n\u001b[0;32m      1\u001b[0m \u001b[38;5;66;03m#LBYL(Look Before you leap)\u001b[39;00m\n\u001b[1;32m----> 3\u001b[0m \u001b[38;5;28;01mif\u001b[39;00m \u001b[38;5;124m\"\u001b[39m\u001b[38;5;124mkey\u001b[39m\u001b[38;5;124m\"\u001b[39m \u001b[38;5;129;01min\u001b[39;00m d:\n\u001b[0;32m      4\u001b[0m     result \u001b[38;5;241m=\u001b[39m d[\u001b[38;5;124m\"\u001b[39m\u001b[38;5;124mkey\u001b[39m\u001b[38;5;124m\"\u001b[39m]\n\u001b[0;32m      5\u001b[0m \u001b[38;5;28;01melse\u001b[39;00m:\n",
      "\u001b[1;31mNameError\u001b[0m: name 'd' is not defined"
     ]
    }
   ],
   "source": [
    "#LBYL(Look Before you leap)\n",
    "\n",
    "if \"key\" in d:\n",
    "    result = d[\"key\"]\n",
    "else:\n",
    "    result = \"default value\""
   ]
  },
  {
   "cell_type": "code",
   "execution_count": 40,
   "id": "3c820b43-2316-444a-967e-82c77e506ac8",
   "metadata": {},
   "outputs": [
    {
     "ename": "ZeroDivisionError",
     "evalue": "division by zero",
     "output_type": "error",
     "traceback": [
      "\u001b[1;31m---------------------------------------------------------------------------\u001b[0m",
      "\u001b[1;31mZeroDivisionError\u001b[0m                         Traceback (most recent call last)",
      "Cell \u001b[1;32mIn[40], line 10\u001b[0m\n\u001b[0;32m      6\u001b[0m     \u001b[38;5;28mprint\u001b[39m(\u001b[38;5;124m\"\u001b[39m\u001b[38;5;124mGlobal Error Caught:\u001b[39m\u001b[38;5;124m\"\u001b[39m, exc_value)\n\u001b[0;32m      8\u001b[0m sys\u001b[38;5;241m.\u001b[39mexcepthook \u001b[38;5;241m=\u001b[39m handle_exception\n\u001b[1;32m---> 10\u001b[0m x \u001b[38;5;241m=\u001b[39m \u001b[38;5;241m1\u001b[39m \u001b[38;5;241m/\u001b[39m \u001b[38;5;241m0\u001b[39m\n",
      "\u001b[1;31mZeroDivisionError\u001b[0m: division by zero"
     ]
    }
   ],
   "source": [
    "#Global Exception Handling\n",
    "\n",
    "import sys\n",
    "\n",
    "def handle_exception(exc_type, exc_value, exc_traceback):\n",
    "    print(\"Global Error Caught:\", exc_value)\n",
    "\n",
    "sys.excepthook = handle_exception\n",
    "\n",
    "x = 1 / 0   # handled globally\n"
   ]
  },
  {
   "cell_type": "code",
   "execution_count": 41,
   "id": "cc224dd3-7bc0-4820-ac30-e54550fc8b56",
   "metadata": {},
   "outputs": [
    {
     "name": "stdout",
     "output_type": "stream",
     "text": [
      "Handled outside the function\n"
     ]
    }
   ],
   "source": [
    "#Error Propagation\n",
    "\n",
    "def func():\n",
    "    return 10 / 0   # not handled here\n",
    "\n",
    "try:\n",
    "    func()\n",
    "except ZeroDivisionError:\n",
    "    print(\"Handled outside the function\")\n"
   ]
  },
  {
   "cell_type": "code",
   "execution_count": 32,
   "id": "f5274cb3-d2ad-4b22-a155-8537c5f2eadf",
   "metadata": {},
   "outputs": [
    {
     "name": "stdout",
     "output_type": "stream",
     "text": [
      "Handled outside the function\n"
     ]
    }
   ],
   "source": [
    "def func():\n",
    "    return 10 / 0   # not handled here\n",
    "\n",
    "try:\n",
    "    func()\n",
    "except ZeroDivisionError:\n",
    "    print(\"Handled outside the function\")\n"
   ]
  },
  {
   "cell_type": "code",
   "execution_count": 24,
   "id": "839cbd01-0aef-4d0d-a632-91bcfbd37ff9",
   "metadata": {},
   "outputs": [
    {
     "ename": "RuntimeError",
     "evalue": "Conversion Failed",
     "output_type": "error",
     "traceback": [
      "\u001b[1;31m---------------------------------------------------------------------------\u001b[0m",
      "\u001b[1;31mValueError\u001b[0m                                Traceback (most recent call last)",
      "Cell \u001b[1;32mIn[24], line 4\u001b[0m\n\u001b[0;32m      3\u001b[0m \u001b[38;5;28;01mtry\u001b[39;00m:\n\u001b[1;32m----> 4\u001b[0m     \u001b[38;5;28mint\u001b[39m(\u001b[38;5;124m\"\u001b[39m\u001b[38;5;124mabc\u001b[39m\u001b[38;5;124m\"\u001b[39m)\n\u001b[0;32m      5\u001b[0m \u001b[38;5;28;01mexcept\u001b[39;00m \u001b[38;5;167;01mValueError\u001b[39;00m \u001b[38;5;28;01mas\u001b[39;00m e:\n",
      "\u001b[1;31mValueError\u001b[0m: invalid literal for int() with base 10: 'abc'",
      "\nThe above exception was the direct cause of the following exception:\n",
      "\u001b[1;31mRuntimeError\u001b[0m                              Traceback (most recent call last)",
      "Cell \u001b[1;32mIn[24], line 6\u001b[0m\n\u001b[0;32m      4\u001b[0m     \u001b[38;5;28mint\u001b[39m(\u001b[38;5;124m\"\u001b[39m\u001b[38;5;124mabc\u001b[39m\u001b[38;5;124m\"\u001b[39m)\n\u001b[0;32m      5\u001b[0m \u001b[38;5;28;01mexcept\u001b[39;00m \u001b[38;5;167;01mValueError\u001b[39;00m \u001b[38;5;28;01mas\u001b[39;00m e:\n\u001b[1;32m----> 6\u001b[0m     \u001b[38;5;28;01mraise\u001b[39;00m \u001b[38;5;167;01mRuntimeError\u001b[39;00m(\u001b[38;5;124m\"\u001b[39m\u001b[38;5;124mConversion Failed\u001b[39m\u001b[38;5;124m\"\u001b[39m) \u001b[38;5;28;01mfrom\u001b[39;00m\u001b[38;5;250m \u001b[39m\u001b[38;5;21;01me\u001b[39;00m\n",
      "\u001b[1;31mRuntimeError\u001b[0m: Conversion Failed"
     ]
    }
   ],
   "source": [
    "#Error cleaning (raise...from))\n",
    "\n",
    "try:\n",
    "    int(\"abc\")\n",
    "except ValueError as e:\n",
    "    raise RuntimeError(\"Conversion Failed\") from e"
   ]
  },
  {
   "cell_type": "code",
   "execution_count": 46,
   "id": "49b57434-5938-4855-90b0-f299f1741136",
   "metadata": {},
   "outputs": [
    {
     "ename": "RuntimeError",
     "evalue": "Conversion failed",
     "output_type": "error",
     "traceback": [
      "\u001b[1;31m---------------------------------------------------------------------------\u001b[0m",
      "\u001b[1;31mValueError\u001b[0m                                Traceback (most recent call last)",
      "Cell \u001b[1;32mIn[46], line 2\u001b[0m\n\u001b[0;32m      1\u001b[0m \u001b[38;5;28;01mtry\u001b[39;00m:\n\u001b[1;32m----> 2\u001b[0m     \u001b[38;5;28mint\u001b[39m(\u001b[38;5;124m\"\u001b[39m\u001b[38;5;124mabc\u001b[39m\u001b[38;5;124m\"\u001b[39m)\n\u001b[0;32m      3\u001b[0m \u001b[38;5;28;01mexcept\u001b[39;00m \u001b[38;5;167;01mValueError\u001b[39;00m \u001b[38;5;28;01mas\u001b[39;00m e:\n",
      "\u001b[1;31mValueError\u001b[0m: invalid literal for int() with base 10: 'abc'",
      "\nThe above exception was the direct cause of the following exception:\n",
      "\u001b[1;31mRuntimeError\u001b[0m                              Traceback (most recent call last)",
      "Cell \u001b[1;32mIn[46], line 4\u001b[0m\n\u001b[0;32m      2\u001b[0m     \u001b[38;5;28mint\u001b[39m(\u001b[38;5;124m\"\u001b[39m\u001b[38;5;124mabc\u001b[39m\u001b[38;5;124m\"\u001b[39m)\n\u001b[0;32m      3\u001b[0m \u001b[38;5;28;01mexcept\u001b[39;00m \u001b[38;5;167;01mValueError\u001b[39;00m \u001b[38;5;28;01mas\u001b[39;00m e:\n\u001b[1;32m----> 4\u001b[0m     \u001b[38;5;28;01mraise\u001b[39;00m \u001b[38;5;167;01mRuntimeError\u001b[39;00m(\u001b[38;5;124m\"\u001b[39m\u001b[38;5;124mConversion failed\u001b[39m\u001b[38;5;124m\"\u001b[39m) \u001b[38;5;28;01mfrom\u001b[39;00m\u001b[38;5;250m \u001b[39m\u001b[38;5;21;01me\u001b[39;00m\n",
      "\u001b[1;31mRuntimeError\u001b[0m: Conversion failed"
     ]
    }
   ],
   "source": [
    "try:\n",
    "    int(\"abc\")\n",
    "except ValueError as e:\n",
    "    raise RuntimeError(\"Conversion failed\") from e\n"
   ]
  },
  {
   "cell_type": "code",
   "execution_count": 27,
   "id": "0f7bccf4-2f27-4a88-bd87-bdbebdcc6556",
   "metadata": {},
   "outputs": [
    {
     "name": "stdout",
     "output_type": "stream",
     "text": [
      "Caught: This is my custom error\n"
     ]
    }
   ],
   "source": [
    "class MyError(Exception):\n",
    "    pass\n",
    "\n",
    "try:\n",
    "    raise MyError(\"This is my custom error\")\n",
    "except MyError as e:\n",
    "    print(\"Caught:\", e)\n"
   ]
  },
  {
   "cell_type": "code",
   "execution_count": 26,
   "id": "136419c3-0713-4819-9756-1cb2e0aaeb52",
   "metadata": {},
   "outputs": [],
   "source": [
    "x = 10\n",
    "assert x > 0   # OK\n",
    "assert x < 0   # Raises AssertionError\n"
   ]
  },
  {
   "cell_type": "code",
   "execution_count": 50,
   "id": "b89d2213-0739-43bd-b231-3129e191353b",
   "metadata": {},
   "outputs": [
    {
     "name": "stdout",
     "output_type": "stream",
     "text": [
      "x is positive\n"
     ]
    }
   ],
   "source": [
    "x = 5\n",
    "assert x > 0   \n",
    "print(\"x is positive\")\n"
   ]
  },
  {
   "cell_type": "code",
   "execution_count": 51,
   "id": "ac17e8c5-41f6-45c5-95aa-f0adb0156d9c",
   "metadata": {},
   "outputs": [
    {
     "ename": "AssertionError",
     "evalue": "x must be positive",
     "output_type": "error",
     "traceback": [
      "\u001b[1;31m---------------------------------------------------------------------------\u001b[0m",
      "\u001b[1;31mAssertionError\u001b[0m                            Traceback (most recent call last)",
      "Cell \u001b[1;32mIn[51], line 2\u001b[0m\n\u001b[0;32m      1\u001b[0m x \u001b[38;5;241m=\u001b[39m \u001b[38;5;241m-\u001b[39m\u001b[38;5;241m5\u001b[39m\n\u001b[1;32m----> 2\u001b[0m \u001b[38;5;28;01massert\u001b[39;00m x \u001b[38;5;241m>\u001b[39m \u001b[38;5;241m0\u001b[39m, \u001b[38;5;124m\"\u001b[39m\u001b[38;5;124mx must be positive\u001b[39m\u001b[38;5;124m\"\u001b[39m\n\u001b[0;32m      3\u001b[0m \u001b[38;5;28mprint\u001b[39m(\u001b[38;5;124m\"\u001b[39m\u001b[38;5;124mx is positive\u001b[39m\u001b[38;5;124m\"\u001b[39m)\n",
      "\u001b[1;31mAssertionError\u001b[0m: x must be positive"
     ]
    }
   ],
   "source": [
    "x = -5\n",
    "assert x > 0, \"x must be positive\"\n",
    "print(\"x is positive\")\n"
   ]
  },
  {
   "cell_type": "code",
   "execution_count": 52,
   "id": "d8f1f2e0-736b-4df9-8982-6fdfc6a9f25c",
   "metadata": {},
   "outputs": [
    {
     "name": "stdout",
     "output_type": "stream",
     "text": [
      "5.0\n"
     ]
    },
    {
     "ename": "AssertionError",
     "evalue": "Denominator cannot be zero",
     "output_type": "error",
     "traceback": [
      "\u001b[1;31m---------------------------------------------------------------------------\u001b[0m",
      "\u001b[1;31mAssertionError\u001b[0m                            Traceback (most recent call last)",
      "Cell \u001b[1;32mIn[52], line 6\u001b[0m\n\u001b[0;32m      3\u001b[0m     \u001b[38;5;28;01mreturn\u001b[39;00m a \u001b[38;5;241m/\u001b[39m b\n\u001b[0;32m      5\u001b[0m \u001b[38;5;28mprint\u001b[39m(divide(\u001b[38;5;241m10\u001b[39m, \u001b[38;5;241m2\u001b[39m))   \u001b[38;5;66;03m# Works fine\u001b[39;00m\n\u001b[1;32m----> 6\u001b[0m \u001b[38;5;28mprint\u001b[39m(divide(\u001b[38;5;241m5\u001b[39m, \u001b[38;5;241m0\u001b[39m))\n",
      "Cell \u001b[1;32mIn[52], line 2\u001b[0m, in \u001b[0;36mdivide\u001b[1;34m(a, b)\u001b[0m\n\u001b[0;32m      1\u001b[0m \u001b[38;5;28;01mdef\u001b[39;00m\u001b[38;5;250m \u001b[39m\u001b[38;5;21mdivide\u001b[39m(a, b):\n\u001b[1;32m----> 2\u001b[0m     \u001b[38;5;28;01massert\u001b[39;00m b \u001b[38;5;241m!=\u001b[39m \u001b[38;5;241m0\u001b[39m, \u001b[38;5;124m\"\u001b[39m\u001b[38;5;124mDenominator cannot be zero\u001b[39m\u001b[38;5;124m\"\u001b[39m\n\u001b[0;32m      3\u001b[0m     \u001b[38;5;28;01mreturn\u001b[39;00m a \u001b[38;5;241m/\u001b[39m b\n",
      "\u001b[1;31mAssertionError\u001b[0m: Denominator cannot be zero"
     ]
    }
   ],
   "source": [
    "def divide(a, b):\n",
    "    assert b != 0, \"Denominator cannot be zero\"\n",
    "    return a / b\n",
    "\n",
    "print(divide(10, 2))   # Works fine\n",
    "print(divide(5, 0))    # Raises AssertionError\n"
   ]
  },
  {
   "cell_type": "code",
   "execution_count": 53,
   "id": "c5ff4121-a639-48cd-9c2e-d51ca7962e55",
   "metadata": {},
   "outputs": [
    {
     "name": "stdout",
     "output_type": "stream",
     "text": [
      "5.0\n"
     ]
    },
    {
     "ename": "AssertionError",
     "evalue": "Denominator cannot be zero",
     "output_type": "error",
     "traceback": [
      "\u001b[1;31m---------------------------------------------------------------------------\u001b[0m",
      "\u001b[1;31mAssertionError\u001b[0m                            Traceback (most recent call last)",
      "Cell \u001b[1;32mIn[53], line 6\u001b[0m\n\u001b[0;32m      3\u001b[0m     \u001b[38;5;28;01mreturn\u001b[39;00m a \u001b[38;5;241m/\u001b[39m b\n\u001b[0;32m      5\u001b[0m \u001b[38;5;28mprint\u001b[39m(divide(\u001b[38;5;241m10\u001b[39m, \u001b[38;5;241m2\u001b[39m))   \u001b[38;5;66;03m# Works fine\u001b[39;00m\n\u001b[1;32m----> 6\u001b[0m \u001b[38;5;28mprint\u001b[39m(divide(\u001b[38;5;241m5\u001b[39m, \u001b[38;5;241m0\u001b[39m))\n",
      "Cell \u001b[1;32mIn[53], line 2\u001b[0m, in \u001b[0;36mdivide\u001b[1;34m(a, b)\u001b[0m\n\u001b[0;32m      1\u001b[0m \u001b[38;5;28;01mdef\u001b[39;00m\u001b[38;5;250m \u001b[39m\u001b[38;5;21mdivide\u001b[39m(a, b):\n\u001b[1;32m----> 2\u001b[0m     \u001b[38;5;28;01massert\u001b[39;00m b \u001b[38;5;241m!=\u001b[39m \u001b[38;5;241m0\u001b[39m, \u001b[38;5;124m\"\u001b[39m\u001b[38;5;124mDenominator cannot be zero\u001b[39m\u001b[38;5;124m\"\u001b[39m\n\u001b[0;32m      3\u001b[0m     \u001b[38;5;28;01mreturn\u001b[39;00m a \u001b[38;5;241m/\u001b[39m b\n",
      "\u001b[1;31mAssertionError\u001b[0m: Denominator cannot be zero"
     ]
    }
   ],
   "source": [
    "def divide(a, b):\n",
    "    assert b != 0, \"Denominator cannot be zero\"\n",
    "    return a / b\n",
    "\n",
    "print(divide(10, 2))   # Works fine\n",
    "print(divide(5, 0))    # Raises AssertionError\n"
   ]
  }
 ],
 "metadata": {
  "kernelspec": {
   "display_name": "Python [conda env:anaconda3]",
   "language": "python",
   "name": "conda-env-anaconda3-py"
  },
  "language_info": {
   "codemirror_mode": {
    "name": "ipython",
    "version": 3
   },
   "file_extension": ".py",
   "mimetype": "text/x-python",
   "name": "python",
   "nbconvert_exporter": "python",
   "pygments_lexer": "ipython3",
   "version": "3.13.5"
  }
 },
 "nbformat": 4,
 "nbformat_minor": 5
}
