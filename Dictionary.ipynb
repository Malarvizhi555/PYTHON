{
 "cells": [
  {
   "cell_type": "code",
   "execution_count": 1,
   "id": "7e6d1fc1-8820-4b6e-8ed5-27979c76fa9b",
   "metadata": {},
   "outputs": [
    {
     "name": "stdout",
     "output_type": "stream",
     "text": [
      "{'id': 101, 'name': 'Naveen', 'age': 25}\n",
      "Naveen\n"
     ]
    }
   ],
   "source": [
    "student = {\n",
    "    \"id\": 101,\n",
    "    \"name\": \"Naveen\",\n",
    "    \"age\": 25\n",
    "}\n",
    "\n",
    "print(student)         \n",
    "print(student[\"name\"])"
   ]
  },
  {
   "cell_type": "code",
   "execution_count": null,
   "id": "6195bf72-80f0-4628-ab0c-775465432a34",
   "metadata": {},
   "outputs": [],
   "source": []
  }
 ],
 "metadata": {
  "kernelspec": {
   "display_name": "Python [conda env:anaconda3]",
   "language": "python",
   "name": "conda-env-anaconda3-py"
  },
  "language_info": {
   "codemirror_mode": {
    "name": "ipython",
    "version": 3
   },
   "file_extension": ".py",
   "mimetype": "text/x-python",
   "name": "python",
   "nbconvert_exporter": "python",
   "pygments_lexer": "ipython3",
   "version": "3.13.5"
  }
 },
 "nbformat": 4,
 "nbformat_minor": 5
}
