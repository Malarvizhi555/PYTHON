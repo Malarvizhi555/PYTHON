{
 "cells": [
  {
   "cell_type": "code",
   "execution_count": 1,
   "id": "a2b7ce4d-8736-4806-a8f7-28c50b5985c8",
   "metadata": {},
   "outputs": [
    {
     "name": "stdout",
     "output_type": "stream",
     "text": [
      "['hi', 67, 67, 'welcome', (9+3j)]\n"
     ]
    }
   ],
   "source": [
    "mylist = [\"hi\", 67,67, \"welcome\",9+3j]\n",
    "print(mylist)"
   ]
  },
  {
   "cell_type": "code",
   "execution_count": 2,
   "id": "77c42600-51b9-481e-9f82-b2066881f4ec",
   "metadata": {},
   "outputs": [
    {
     "name": "stdout",
     "output_type": "stream",
     "text": [
      "['hi', 'hello', 'welcome', 'welcome', 555, 555]\n"
     ]
    }
   ],
   "source": [
    "mylist = [\"hi\", \"hello\", \"welcome\",\"welcome\", 555, 555]\n",
    "print(mylist)"
   ]
  },
  {
   "cell_type": "code",
   "execution_count": 5,
   "id": "0bd30e71-e7d0-4d37-a1db-5d66c695f108",
   "metadata": {},
   "outputs": [
    {
     "name": "stdout",
     "output_type": "stream",
     "text": [
      "6\n"
     ]
    }
   ],
   "source": [
    "mylist = [\"hi\", \"hello\", \"welcome\",\"welcome\",54845, 555]\n",
    "print(len(mylist))"
   ]
  },
  {
   "cell_type": "code",
   "execution_count": 6,
   "id": "238b8c09-6f58-4f60-b159-aedcb9185dc7",
   "metadata": {},
   "outputs": [
    {
     "name": "stdout",
     "output_type": "stream",
     "text": [
      "['hi', 1, 0.1, (1+4j)]\n"
     ]
    }
   ],
   "source": [
    "mylist = [\"hi\", 1, 0.1,1+4j]\n",
    "print(mylist)"
   ]
  },
  {
   "cell_type": "code",
   "execution_count": 7,
   "id": "c9b5b2fa-d529-4003-94fc-91245230e0f6",
   "metadata": {},
   "outputs": [
    {
     "data": {
      "text/plain": [
       "list"
      ]
     },
     "execution_count": 7,
     "metadata": {},
     "output_type": "execute_result"
    }
   ],
   "source": [
    "type(mylist)"
   ]
  },
  {
   "cell_type": "code",
   "execution_count": 8,
   "id": "e3989199-af11-4b22-8f1b-f2430d6110f9",
   "metadata": {},
   "outputs": [
    {
     "name": "stdout",
     "output_type": "stream",
     "text": [
      "welcome\n"
     ]
    }
   ],
   "source": [
    "#Acces Time\n",
    "\n",
    "mylist = [\"hi\", \"hello\", \"welcome\",\"welcome\",555]\n",
    "print(mylist[2])"
   ]
  },
  {
   "cell_type": "code",
   "execution_count": 9,
   "id": "16d79303-778c-41da-9b27-5546531c24dc",
   "metadata": {},
   "outputs": [
    {
     "name": "stdout",
     "output_type": "stream",
     "text": [
      "welcome\n"
     ]
    }
   ],
   "source": [
    "mylist = [\"hi\", \"hello\", \"welcome\",\"welcome\", 555]\n",
    "print(mylist[2])"
   ]
  },
  {
   "cell_type": "code",
   "execution_count": 11,
   "id": "a7c7f207-c759-4da4-a329-96c367f9e70d",
   "metadata": {},
   "outputs": [
    {
     "name": "stdout",
     "output_type": "stream",
     "text": [
      "555\n"
     ]
    }
   ],
   "source": [
    "mylist = [\"hi\", \"hello\", \"welcome\",\"welcome\", 555]\n",
    "print(mylist[-1])"
   ]
  },
  {
   "cell_type": "code",
   "execution_count": 18,
   "id": "f95d2e5b-afa6-432c-a123-9414223dd785",
   "metadata": {},
   "outputs": [
    {
     "name": "stdout",
     "output_type": "stream",
     "text": [
      "['hello', 'welcome', 'welcome', 899]\n"
     ]
    }
   ],
   "source": [
    "mylist = [\"hi\", \"hello\", \"welcome\",\"welcome\",899]\n",
    "print(mylist[1:5])"
   ]
  },
  {
   "cell_type": "code",
   "execution_count": 3,
   "id": "fdf1b630-ca2e-4610-a3b6-a3b0d635026f",
   "metadata": {},
   "outputs": [
    {
     "name": "stdout",
     "output_type": "stream",
     "text": [
      "['welcome', 'welcome', 899]\n"
     ]
    }
   ],
   "source": [
    "mylist = [\"hi\", \"hello\", \"welcome\",\"welcome\",899]\n",
    "print(mylist[2:7]) #---> dobut"
   ]
  },
  {
   "cell_type": "code",
   "execution_count": 19,
   "id": "044258c5-0a0d-4bf4-b68d-2004522b05c7",
   "metadata": {},
   "outputs": [
    {
     "name": "stdout",
     "output_type": "stream",
     "text": [
      "1\n"
     ]
    }
   ],
   "source": [
    "print(True*True)"
   ]
  },
  {
   "cell_type": "code",
   "execution_count": 20,
   "id": "755aae3e-e4b0-4b7c-bc41-4edad2c6501a",
   "metadata": {},
   "outputs": [
    {
     "name": "stdout",
     "output_type": "stream",
     "text": [
      "45\n"
     ]
    }
   ],
   "source": [
    "k=[1,2,3,[78,[45,56],89,90],7,8]\n",
    "print(k[3][1][0]) ---> dobut"
   ]
  },
  {
   "cell_type": "code",
   "execution_count": 23,
   "id": "e470385b-c908-4296-a707-8b06026d2983",
   "metadata": {},
   "outputs": [
    {
     "name": "stdin",
     "output_type": "stream",
     "text": [
      "enter your gender female\n",
      "enter your exp 3\n"
     ]
    },
    {
     "name": "stdout",
     "output_type": "stream",
     "text": [
      "WIBRO\n"
     ]
    }
   ],
   "source": [
    "gender=input(\"enter your gender\")\n",
    "exp=int(input(\"enter your exp\"))\n",
    "\n",
    "\n",
    "if gender==\"male\":\n",
    "    if exp==1:\n",
    "        print(\"TCS\")\n",
    "    elif exp==2:\n",
    "        print(\"WIBRO\")\n",
    "    else:\n",
    "        print(\"invalid\")\n",
    "elif gender==\"female\":\n",
    "    if exp==2:\n",
    "        print(\"TCS\")\n",
    "    elif exp==3:\n",
    "        print(\"WIBRO\")\n",
    "    else:\n",
    "        print(\"invalid\")\n",
    "else:\n",
    "    print(\"invalid\")"
   ]
  },
  {
   "cell_type": "code",
   "execution_count": 24,
   "id": "40901892-bd45-476d-8f2a-619ccefc35f8",
   "metadata": {},
   "outputs": [
    {
     "name": "stdout",
     "output_type": "stream",
     "text": [
      "['apple', 'banana', 'carrot']\n"
     ]
    },
    {
     "data": {
      "text/plain": [
       "['apple', 'kiwi', 'carrot']"
      ]
     },
     "execution_count": 24,
     "metadata": {},
     "output_type": "execute_result"
    }
   ],
   "source": [
    "#Change List Items\n",
    "mylist = [\"apple\", \"banana\", \"carrot\"]\n",
    "print(mylist)\n",
    "mylist[1]=\"kiwi\"\n",
    "mylist"
   ]
  },
  {
   "cell_type": "code",
   "execution_count": 25,
   "id": "4babf511-ced5-462f-8da5-07512ab92979",
   "metadata": {},
   "outputs": [
    {
     "data": {
      "text/plain": [
       "[1, 2, ['hi', 'hello'], 34, 67]"
      ]
     },
     "execution_count": 25,
     "metadata": {},
     "output_type": "execute_result"
    }
   ],
   "source": [
    "k=[1,2,33,34,67]\n",
    "k[2]=[\"hi\",\"hello\"]\n",
    "k"
   ]
  },
  {
   "cell_type": "code",
   "execution_count": 37,
   "id": "484ba99f-f6b4-41af-8548-ca8650fbb51e",
   "metadata": {},
   "outputs": [
    {
     "data": {
      "text/plain": [
       "[3, 8, 9, 0, 0, 67]"
      ]
     },
     "execution_count": 37,
     "metadata": {},
     "output_type": "execute_result"
    }
   ],
   "source": [
    "k=[1,2,33,34,67]\n",
    "k[:4]=[3,8,9,0,0]\n",
    "k"
   ]
  },
  {
   "cell_type": "code",
   "execution_count": 38,
   "id": "6b599594-c9c6-4565-aed0-e0bdbfb729c8",
   "metadata": {},
   "outputs": [
    {
     "data": {
      "text/plain": [
       "[1, 2, 33, 34, 3, 8, 9, 0, 0]"
      ]
     },
     "execution_count": 38,
     "metadata": {},
     "output_type": "execute_result"
    }
   ],
   "source": [
    "k=[1,2,33,34,67]\n",
    "k[4:]=[3,8,9,0,0]\n",
    "k   #--->dobut"
   ]
  },
  {
   "cell_type": "code",
   "execution_count": 28,
   "id": "3907ee98-04c2-4256-9654-1bfde49ad007",
   "metadata": {},
   "outputs": [
    {
     "name": "stdout",
     "output_type": "stream",
     "text": [
      "['apple', 'orange', 'carrot']\n"
     ]
    }
   ],
   "source": [
    "mylist[1] = \"orange\"\n",
    "print(mylist)"
   ]
  },
  {
   "cell_type": "code",
   "execution_count": 29,
   "id": "751fa69b-d39f-44f9-814a-05da2edc4a38",
   "metadata": {},
   "outputs": [
    {
     "name": "stdout",
     "output_type": "stream",
     "text": [
      "['apple', 'blackcurrant', 'watermelon', 'orange', 'kiwi', 'mango']\n"
     ]
    }
   ],
   "source": [
    "mylist = [\"apple\", \"banana\", \"cherry\", \"orange\", \"kiwi\", \"mango\"]\n",
    "mylist[1:3] = [\"blackcurrant\", \"watermelon\"]\n",
    "print(mylist)"
   ]
  },
  {
   "cell_type": "code",
   "execution_count": 30,
   "id": "15a3236f-2411-4b2f-8c3b-5479c2d0e011",
   "metadata": {},
   "outputs": [
    {
     "name": "stdout",
     "output_type": "stream",
     "text": [
      "['apple', 'blackcurrant', 'watermelon', 'cherry']\n"
     ]
    }
   ],
   "source": [
    "mylist = [\"apple\", \"banana\", \"cherry\"]\n",
    "mylist[1:2] = [\"blackcurrant\", \"watermelon\"]\n",
    "print(mylist)"
   ]
  },
  {
   "cell_type": "code",
   "execution_count": 33,
   "id": "61254d11-7594-4b7e-b9f9-be205da6caa2",
   "metadata": {},
   "outputs": [
    {
     "name": "stdout",
     "output_type": "stream",
     "text": [
      "['apple', 'watermelon']\n"
     ]
    }
   ],
   "source": [
    "mylist = [\"apple\", \"banana\", \"cherry\"]\n",
    "mylist[1:3] = [\"watermelon\"]\n",
    "print(mylist)"
   ]
  },
  {
   "cell_type": "code",
   "execution_count": 35,
   "id": "af9c4a96-3a41-4b42-8661-ede2aa9ed466",
   "metadata": {},
   "outputs": [
    {
     "name": "stdout",
     "output_type": "stream",
     "text": [
      "[2, 'hi', 'hello', 4]\n"
     ]
    }
   ],
   "source": [
    "k=[2,\"hi\",\"hello\",4]\n",
    "print(k)"
   ]
  },
  {
   "cell_type": "code",
   "execution_count": 36,
   "id": "26db98ac-f83b-47b4-af75-f0af3fe8c44f",
   "metadata": {},
   "outputs": [
    {
     "name": "stdout",
     "output_type": "stream",
     "text": [
      "['apple', 'banana', 'watermelon', 'cherry']\n"
     ]
    }
   ],
   "source": [
    "#Insert\n",
    "mylist = [\"apple\", \"banana\", \"cherry\"]\n",
    "mylist.insert(2, \"watermelon\")\n",
    "print(mylist)"
   ]
  },
  {
   "cell_type": "code",
   "execution_count": 39,
   "id": "3dcd03d9-3cd8-4f28-be88-82db65b231f6",
   "metadata": {},
   "outputs": [
    {
     "name": "stdout",
     "output_type": "stream",
     "text": [
      "[1, 2, 3, 'hi', 5, 6]\n"
     ]
    }
   ],
   "source": [
    "k=[1,2,3,5,6]\n",
    "k.insert(3,\"hi\")\n",
    "print(k)"
   ]
  },
  {
   "cell_type": "code",
   "execution_count": 40,
   "id": "03add728-e4f8-4407-92d1-92b6bbf940de",
   "metadata": {},
   "outputs": [
    {
     "name": "stdout",
     "output_type": "stream",
     "text": [
      "[333, 4, 4, 5, 6, 1, 2, 34, 45]\n"
     ]
    }
   ],
   "source": [
    "list1=[1,2,34,45]\n",
    "list2=[333,4,4,5,6]\n",
    "\n",
    "list2.extend(list1)\n",
    "print(list2)"
   ]
  },
  {
   "cell_type": "code",
   "execution_count": 41,
   "id": "7b8ad5b0-95ec-4223-bff1-e7bf8fc461e7",
   "metadata": {},
   "outputs": [
    {
     "name": "stdout",
     "output_type": "stream",
     "text": [
      "['banana', 'cherry', 'apple']\n"
     ]
    }
   ],
   "source": [
    "#REMOVE\n",
    "mylist = [\"apple\", \"banana\", \"cherry\",\"apple\"]\n",
    "mylist.remove(\"apple\")\n",
    "# mylist.remove(\"apple\")\n",
    "print(mylist) --> DOBUT"
   ]
  },
  {
   "cell_type": "code",
   "execution_count": 42,
   "id": "557d8e07-028d-45e0-91b3-bb2a6ada821e",
   "metadata": {},
   "outputs": [
    {
     "name": "stdout",
     "output_type": "stream",
     "text": [
      "['banana', 'cherry']\n"
     ]
    }
   ],
   "source": [
    "mylist = [\"apple\", \"banana\", \"cherry\"]\n",
    "mylist.pop(0)\n",
    "print(mylist)"
   ]
  },
  {
   "cell_type": "code",
   "execution_count": 43,
   "id": "72263036-ce69-4bfc-ac15-acd9f5426c4c",
   "metadata": {},
   "outputs": [
    {
     "name": "stdout",
     "output_type": "stream",
     "text": [
      "['apple', 'banana']\n"
     ]
    }
   ],
   "source": [
    "mylist = [\"apple\", \"banana\", \"cherry\"]\n",
    "mylist.pop()\n",
    "print(mylist)"
   ]
  },
  {
   "cell_type": "code",
   "execution_count": 44,
   "id": "9a7febe3-eb69-47d8-a16f-5225d90b5267",
   "metadata": {},
   "outputs": [
    {
     "data": {
      "text/plain": [
       "[]"
      ]
     },
     "execution_count": 44,
     "metadata": {},
     "output_type": "execute_result"
    }
   ],
   "source": [
    "mylist.clear()\n",
    "mylist #--->Dobut"
   ]
  },
  {
   "cell_type": "code",
   "execution_count": 45,
   "id": "1c50ae1a-92b6-4f01-ba44-7774a0ade31c",
   "metadata": {},
   "outputs": [
    {
     "ename": "NameError",
     "evalue": "name 'mylist' is not defined",
     "output_type": "error",
     "traceback": [
      "\u001b[1;31m---------------------------------------------------------------------------\u001b[0m",
      "\u001b[1;31mNameError\u001b[0m                                 Traceback (most recent call last)",
      "Cell \u001b[1;32mIn[45], line 3\u001b[0m\n\u001b[0;32m      1\u001b[0m mylist \u001b[38;5;241m=\u001b[39m [\u001b[38;5;241m1\u001b[39m,\u001b[38;5;241m5\u001b[39m,\u001b[38;5;241m6\u001b[39m,\u001b[38;5;241m6\u001b[39m,\u001b[38;5;241m89\u001b[39m,\u001b[38;5;241m88\u001b[39m]\n\u001b[0;32m      2\u001b[0m \u001b[38;5;28;01mdel\u001b[39;00m mylist\n\u001b[1;32m----> 3\u001b[0m \u001b[38;5;28mprint\u001b[39m(mylist)\n",
      "\u001b[1;31mNameError\u001b[0m: name 'mylist' is not defined"
     ]
    }
   ],
   "source": [
    "mylist = [1,5,6,6,89,88]\n",
    "del mylist\n",
    "print(mylist)"
   ]
  },
  {
   "cell_type": "code",
   "execution_count": 46,
   "id": "66d37e6e-08c3-40c3-bdae-f397476518b7",
   "metadata": {},
   "outputs": [
    {
     "data": {
      "text/plain": [
       "[2, 4, 5, 'hi', 8]"
      ]
     },
     "execution_count": 46,
     "metadata": {},
     "output_type": "execute_result"
    }
   ],
   "source": [
    "l=[2,4,5,6,7,8]\n",
    "l[3:5]=[\"hi\"]\n",
    "l"
   ]
  },
  {
   "cell_type": "code",
   "execution_count": 47,
   "id": "55a0ba4a-1c09-4290-889a-c00eb8cdffae",
   "metadata": {},
   "outputs": [
    {
     "name": "stdout",
     "output_type": "stream",
     "text": [
      "orange\n",
      "mango\n",
      "kiwi\n",
      "pineapple\n",
      "banana\n"
     ]
    }
   ],
   "source": [
    "mylist = [\"orange\", \"mango\", \"kiwi\", \"pineapple\", \"banana\"]\n",
    "for i in range(len(mylist)):\n",
    "    print(mylist[i]) #---> dobut"
   ]
  },
  {
   "cell_type": "code",
   "execution_count": 48,
   "id": "94340651-8bdc-44bc-8651-7ba810370500",
   "metadata": {},
   "outputs": [
    {
     "name": "stdout",
     "output_type": "stream",
     "text": [
      "['banana', 'kiwi', 'mango', 'orange', 'pineapple']\n"
     ]
    }
   ],
   "source": [
    "mylist = [\"orange\", \"mango\", \"kiwi\", \"pineapple\", \"banana\"]\n",
    "mylist.sort()\n",
    "print(mylist)"
   ]
  },
  {
   "cell_type": "code",
   "execution_count": null,
   "id": "f3ed2f44-d0e3-46de-90ab-7cf7b4f9f722",
   "metadata": {},
   "outputs": [],
   "source": []
  }
 ],
 "metadata": {
  "kernelspec": {
   "display_name": "Python [conda env:anaconda3]",
   "language": "python",
   "name": "conda-env-anaconda3-py"
  },
  "language_info": {
   "codemirror_mode": {
    "name": "ipython",
    "version": 3
   },
   "file_extension": ".py",
   "mimetype": "text/x-python",
   "name": "python",
   "nbconvert_exporter": "python",
   "pygments_lexer": "ipython3",
   "version": "3.13.5"
  }
 },
 "nbformat": 4,
 "nbformat_minor": 5
}
