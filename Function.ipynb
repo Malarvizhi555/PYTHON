{
 "cells": [
  {
   "cell_type": "code",
   "execution_count": 1,
   "id": "e5d062cd-f0e2-4af1-96fa-ad7e205ffabc",
   "metadata": {},
   "outputs": [
    {
     "name": "stdout",
     "output_type": "stream",
     "text": [
      "hello world\n"
     ]
    }
   ],
   "source": [
    "#Function without arguments & return\n",
    "\n",
    "def say_hello():\n",
    "    print(\"hello world\")\n",
    "say_hello()"
   ]
  },
  {
   "cell_type": "code",
   "execution_count": 2,
   "id": "a296d004-9b3d-4121-a44a-d0293fb9609d",
   "metadata": {},
   "outputs": [
    {
     "name": "stdout",
     "output_type": "stream",
     "text": [
      "Hi Malar\n"
     ]
    }
   ],
   "source": [
    "#Function with arguments, no return\n",
    "\n",
    "def greet(name):\n",
    "    print(\"Hi\",name)\n",
    "greet(\"Malar\")"
   ]
  },
  {
   "cell_type": "code",
   "execution_count": 3,
   "id": "c77292d7-88c4-40f0-90e4-0f2252472058",
   "metadata": {},
   "outputs": [
    {
     "name": "stdout",
     "output_type": "stream",
     "text": [
      "30\n"
     ]
    }
   ],
   "source": [
    "#Function with arguments & return\n",
    "\n",
    "def add(a,b):\n",
    "    return a+b\n",
    "result = add(10,20)\n",
    "print(result)"
   ]
  },
  {
   "cell_type": "code",
   "execution_count": 7,
   "id": "9b8ca291-bd99-4c36-9575-640a090a4c57",
   "metadata": {},
   "outputs": [
    {
     "name": "stdout",
     "output_type": "stream",
     "text": [
      "welcome Guest\n",
      "welcome kayal\n"
     ]
    }
   ],
   "source": [
    "#function with default arguments \n",
    "\n",
    "def welcome(name=\"Guest\"):\n",
    "    print(\"welcome\", name)\n",
    "welcome()\n",
    "welcome(\"kayal\")\n"
   ]
  },
  {
   "cell_type": "code",
   "execution_count": 8,
   "id": "a62db544-3878-4738-a05e-cc895b96b690",
   "metadata": {},
   "outputs": [
    {
     "name": "stdout",
     "output_type": "stream",
     "text": [
      "6\n",
      "100\n"
     ]
    }
   ],
   "source": [
    "# Function with Variable arguments\n",
    "\n",
    "def total(*numbers):\n",
    "    return sum(numbers)\n",
    "print(total(1,2,3))\n",
    "print(total(10,20,30,40))\n"
   ]
  },
  {
   "cell_type": "code",
   "execution_count": 9,
   "id": "c63fc64b-3f97-4554-81c1-c679953bbe75",
   "metadata": {},
   "outputs": [
    {
     "name": "stdout",
     "output_type": "stream",
     "text": [
      "25\n"
     ]
    }
   ],
   "source": [
    "#Anonymous (lambda) function.\n",
    "\n",
    "square = lambda x : x*x\n",
    "print(square(5))"
   ]
  },
  {
   "cell_type": "code",
   "execution_count": 10,
   "id": "e4115102-4fc8-4449-98d1-967c3f959ba5",
   "metadata": {},
   "outputs": [
    {
     "name": "stdout",
     "output_type": "stream",
     "text": [
      "hi, how are you\n"
     ]
    }
   ],
   "source": [
    "def function1():\n",
    "    print(\"hi, how are you\")\n",
    "\n",
    "function1()\n"
   ]
  },
  {
   "cell_type": "code",
   "execution_count": 11,
   "id": "dcf8c519-4c25-453e-818b-4986d9aed725",
   "metadata": {},
   "outputs": [
    {
     "name": "stdout",
     "output_type": "stream",
     "text": [
      "hi hello\n"
     ]
    }
   ],
   "source": [
    "print(\"hi hello\")"
   ]
  },
  {
   "cell_type": "code",
   "execution_count": 12,
   "id": "097ac700-cb4a-4d4f-95f0-9a79e08d15c3",
   "metadata": {},
   "outputs": [
    {
     "name": "stdout",
     "output_type": "stream",
     "text": [
      "hi, how are you\n"
     ]
    }
   ],
   "source": [
    " print(\"hi, how are you\")"
   ]
  },
  {
   "cell_type": "code",
   "execution_count": 18,
   "id": "944235ee-ac6f-4f13-85c0-fc096592e541",
   "metadata": {},
   "outputs": [
    {
     "name": "stdout",
     "output_type": "stream",
     "text": [
      "-4\n"
     ]
    }
   ],
   "source": [
    "a=5\n",
    "b=9\n",
    "\n",
    "def add():\n",
    "    c=a+b\n",
    "\n",
    "def sub():\n",
    "    print(a-b)\n",
    "\n",
    "add()\n",
    "sub()"
   ]
  },
  {
   "cell_type": "code",
   "execution_count": 1,
   "id": "f17b0a11-f6b8-43f6-b826-c8441047218c",
   "metadata": {},
   "outputs": [
    {
     "name": "stdout",
     "output_type": "stream",
     "text": [
      "hi\n",
      "11 1\n"
     ]
    }
   ],
   "source": [
    "a = 6\n",
    "b = 5\n",
    "\n",
    "def add():\n",
    "    global c,d\n",
    "    c = a+b\n",
    "    d = a-b\n",
    "    print(\"hi\")\n",
    "\n",
    "def sub():\n",
    "    print(c,d)\n",
    "add()\n",
    "sub()\n",
    "    "
   ]
  },
  {
   "cell_type": "code",
   "execution_count": 4,
   "id": "4dca1e01-6d82-4294-a928-47386c534e39",
   "metadata": {},
   "outputs": [
    {
     "name": "stdout",
     "output_type": "stream",
     "text": [
      "11 -1\n"
     ]
    }
   ],
   "source": [
    "# Aruguments\n",
    "\n",
    "def add(a,b):\n",
    "    c = a+b\n",
    "    return c\n",
    "k = add(5,6)\n",
    "\n",
    "def sub(a,b):\n",
    "    c = a-b\n",
    "    return c\n",
    "k1 = sub(5,6)\n",
    "\n",
    "print(k,k1)"
   ]
  },
  {
   "cell_type": "code",
   "execution_count": 5,
   "id": "db0ca822-50e2-4fce-bf0a-e291511d4ce1",
   "metadata": {},
   "outputs": [
    {
     "name": "stdout",
     "output_type": "stream",
     "text": [
      "5\n",
      "-1\n"
     ]
    }
   ],
   "source": [
    "def add(a,b):\n",
    "    c = a+b\n",
    "    return a\n",
    "\n",
    "def sub(a,b):\n",
    "    c = a-b\n",
    "    return c\n",
    "\n",
    "k = add(5,6)\n",
    "print(k)\n",
    "k1= sub(5,6)\n",
    "print(k1)"
   ]
  },
  {
   "cell_type": "code",
   "execution_count": 6,
   "id": "ac378660-9a4c-41f0-8391-bb190dd526db",
   "metadata": {},
   "outputs": [
    {
     "name": "stdout",
     "output_type": "stream",
     "text": [
      "-5\n"
     ]
    }
   ],
   "source": [
    "def add(a,b):\n",
    "    c = a+b\n",
    "    return a\n",
    "\n",
    "def sub(a,b):\n",
    "    c = a-b\n",
    "    return c\n",
    "\n",
    "k = add(5,6)\n",
    "k1= sub(5,6)\n",
    "print(k*k1)"
   ]
  },
  {
   "cell_type": "code",
   "execution_count": 8,
   "id": "e63bc845-1163-462d-a7b2-554cc146253e",
   "metadata": {},
   "outputs": [
    {
     "name": "stdout",
     "output_type": "stream",
     "text": [
      "10 78\n"
     ]
    }
   ],
   "source": [
    "def function(A,B):\n",
    "    print(A, B)\n",
    "\n",
    "function(A=10, B=78)"
   ]
  },
  {
   "cell_type": "code",
   "execution_count": 12,
   "id": "d6029d24-5ca2-47c9-b7af-e8382ea6f02b",
   "metadata": {},
   "outputs": [
    {
     "ename": "NameError",
     "evalue": "name 'num1' is not defined",
     "output_type": "error",
     "traceback": [
      "\u001b[1;31m---------------------------------------------------------------------------\u001b[0m",
      "\u001b[1;31mNameError\u001b[0m                                 Traceback (most recent call last)",
      "Cell \u001b[1;32mIn[12], line 4\u001b[0m\n\u001b[0;32m      1\u001b[0m \u001b[38;5;28;01mdef\u001b[39;00m\u001b[38;5;250m \u001b[39m\u001b[38;5;21madd\u001b[39m(Num1, Num2):\n\u001b[0;32m      2\u001b[0m     \u001b[38;5;28mprint\u001b[39m(num1, num2)\n\u001b[1;32m----> 4\u001b[0m add(Num2 \u001b[38;5;241m=\u001b[39m \u001b[38;5;241m90\u001b[39m, Num1 \u001b[38;5;241m=\u001b[39m \u001b[38;5;241m100\u001b[39m)\n",
      "Cell \u001b[1;32mIn[12], line 2\u001b[0m, in \u001b[0;36madd\u001b[1;34m(Num1, Num2)\u001b[0m\n\u001b[0;32m      1\u001b[0m \u001b[38;5;28;01mdef\u001b[39;00m\u001b[38;5;250m \u001b[39m\u001b[38;5;21madd\u001b[39m(Num1, Num2):\n\u001b[1;32m----> 2\u001b[0m     \u001b[38;5;28mprint\u001b[39m(num1, num2)\n",
      "\u001b[1;31mNameError\u001b[0m: name 'num1' is not defined"
     ]
    }
   ],
   "source": [
    "def add(Num1, Num2):\n",
    "    print(num1, num2)\n",
    "   \n",
    "add(Num2 = 90, Num1 = 100)\n"
   ]
  },
  {
   "cell_type": "code",
   "execution_count": 14,
   "id": "042470ac-5ce5-433d-9243-5729166a5273",
   "metadata": {},
   "outputs": [
    {
     "name": "stdout",
     "output_type": "stream",
     "text": [
      "(5, 10)\n",
      "89\n"
     ]
    }
   ],
   "source": [
    "def add(Num1, Num2):\n",
    "    k = Num1, Num2\n",
    "    return k\n",
    "l=add(Num2 = 10, Num1 = 5)\n",
    "print(l)\n",
    "\n",
    "b=89\n",
    "ans = b*1\n",
    "print(ans)"
   ]
  },
  {
   "cell_type": "code",
   "execution_count": 15,
   "id": "32c2050c-3bb1-476a-8c1f-ed3af819b2ad",
   "metadata": {},
   "outputs": [
    {
     "name": "stdout",
     "output_type": "stream",
     "text": [
      "5\n"
     ]
    }
   ],
   "source": [
    "def add(**k):\n",
    "    print(k[\"num1\"])\n",
    "\n",
    "add (num2 =2,num1 =5, num3 =56) "
   ]
  },
  {
   "cell_type": "code",
   "execution_count": 20,
   "id": "627bc541-c4c7-4667-91d1-34af52a9b46a",
   "metadata": {},
   "outputs": [],
   "source": [
    "def myfunction(a):\n",
    "    pass\n",
    "\n",
    "myfunction(8)"
   ]
  },
  {
   "cell_type": "code",
   "execution_count": 21,
   "id": "51d4fa07-f5db-433c-bf6e-3992f7519cb1",
   "metadata": {},
   "outputs": [],
   "source": [
    "for i in range(10):\n",
    "    pass"
   ]
  },
  {
   "cell_type": "code",
   "execution_count": 22,
   "id": "d76c4406-b512-4b9f-98d8-2dad08a4511c",
   "metadata": {},
   "outputs": [
    {
     "name": "stdout",
     "output_type": "stream",
     "text": [
      "30\n"
     ]
    }
   ],
   "source": [
    "def add(num1, num2):\n",
    "    k =(num1+num2)\n",
    "    return k\n",
    "\n",
    "k=add(10,20)\n",
    "print(k)"
   ]
  },
  {
   "cell_type": "code",
   "execution_count": 24,
   "id": "8cfea07a-df99-4bb9-b4e3-37555ce5ba5b",
   "metadata": {},
   "outputs": [
    {
     "name": "stdout",
     "output_type": "stream",
     "text": [
      "30\n",
      "50\n"
     ]
    }
   ],
   "source": [
    "def add(num1, num2):\n",
    "    k =(num1+num2)\n",
    "    return k\n",
    "\n",
    "k=add(10,20)\n",
    "print(k)\n",
    "output1=k+20\n",
    "print(output1)"
   ]
  },
  {
   "cell_type": "code",
   "execution_count": 25,
   "id": "026eb64f-6224-4375-8891-0dd398997334",
   "metadata": {},
   "outputs": [
    {
     "name": "stdout",
     "output_type": "stream",
     "text": [
      "135 new\n"
     ]
    }
   ],
   "source": [
    "def add(num1, num2):\n",
    "    k=num1+num2\n",
    "    return k\n",
    "\n",
    "new1 =add(90,45)\n",
    "print(new1,\"new\")\n"
   ]
  },
  {
   "cell_type": "code",
   "execution_count": 27,
   "id": "1d9d7d7d-6dc5-41bb-ac9a-bbe73d34d251",
   "metadata": {},
   "outputs": [
    {
     "name": "stdout",
     "output_type": "stream",
     "text": [
      "135 new\n",
      "213\n"
     ]
    }
   ],
   "source": [
    "def add(num1, num2):\n",
    "    k=num1+num2\n",
    "    return k\n",
    "\n",
    "new1 =add(90,45)\n",
    "print(new1,\"new\")\n",
    "\n",
    "add1 = new1 +78\n",
    "print(add1)"
   ]
  },
  {
   "cell_type": "code",
   "execution_count": 29,
   "id": "28c88c84-1e92-48e4-8275-ceed317ea1b4",
   "metadata": {},
   "outputs": [],
   "source": [
    "def add1(num1, num2):\n",
    "    k=(num1+num2)\n",
    "    return k\n",
    "\n",
    "def sub(num1, num2):\n",
    "    k=(num1+num2)\n",
    "    return k"
   ]
  },
  {
   "cell_type": "code",
   "execution_count": 30,
   "id": "6300a671-8a9b-4e77-9245-471735aab63b",
   "metadata": {},
   "outputs": [
    {
     "name": "stdout",
     "output_type": "stream",
     "text": [
      "2160\n"
     ]
    }
   ],
   "source": [
    "ADD1 = add1(10,20)\n",
    "SUB1 = sub(60,12)\n",
    "\n",
    "output1 = ADD1*SUB1\n",
    "print(output1)"
   ]
  },
  {
   "cell_type": "code",
   "execution_count": null,
   "id": "3bea6da9-839e-42cd-b183-458740cf6e56",
   "metadata": {},
   "outputs": [],
   "source": []
  },
  {
   "cell_type": "code",
   "execution_count": null,
   "id": "c10a04b3-7c9a-4d23-955b-64c56aaf5837",
   "metadata": {},
   "outputs": [],
   "source": []
  }
 ],
 "metadata": {
  "kernelspec": {
   "display_name": "Python [conda env:anaconda3]",
   "language": "python",
   "name": "conda-env-anaconda3-py"
  },
  "language_info": {
   "codemirror_mode": {
    "name": "ipython",
    "version": 3
   },
   "file_extension": ".py",
   "mimetype": "text/x-python",
   "name": "python",
   "nbconvert_exporter": "python",
   "pygments_lexer": "ipython3",
   "version": "3.13.5"
  }
 },
 "nbformat": 4,
 "nbformat_minor": 5
}
