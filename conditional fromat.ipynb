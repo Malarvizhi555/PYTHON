{
 "cells": [
  {
   "cell_type": "code",
   "execution_count": 2,
   "id": "f81552fd-41f1-41b2-8b0d-e768514bbc52",
   "metadata": {},
   "outputs": [
    {
     "name": "stdout",
     "output_type": "stream",
     "text": [
      "15\n"
     ]
    }
   ],
   "source": [
    "a=15\n",
    "b=10\n",
    "if a>b:\n",
    "    print(a)\n",
    "else:\n",
    "    print(b)"
   ]
  },
  {
   "cell_type": "code",
   "execution_count": 1,
   "id": "1ec9d013-c276-470e-948e-7178e59a272a",
   "metadata": {},
   "outputs": [
    {
     "name": "stdin",
     "output_type": "stream",
     "text": [
      "Enter your Skill :  python\n",
      "Enter your Experience :  1\n",
      "Enter your Native :  chennai\n"
     ]
    },
    {
     "name": "stdout",
     "output_type": "stream",
     "text": [
      "Wipro\n"
     ]
    }
   ],
   "source": [
    "skill = input(\"Enter your Skill : \")\n",
    "experience = int(input(\"Enter your Experience : \"))\n",
    "native = input(\"Enter your Native : \")\n",
    "if skill == \"python\":\n",
    "  if experience == 1:\n",
    "      if native == \"chennai\":\n",
    "        print(\"Wipro\")\n",
    "elif experience ==2:\n",
    "        print(\"tcs\")\n",
    "else:\n",
    "        print(\"not match\")"
   ]
  },
  {
   "cell_type": "code",
   "execution_count": 64,
   "id": "47a083eb-784e-469c-9cd9-371fbeb22d1d",
   "metadata": {},
   "outputs": [
    {
     "name": "stdin",
     "output_type": "stream",
     "text": [
      "Enter your Skill :  python\n",
      "Enter your Experience :  2\n",
      "Enter your Native :  chennai\n"
     ]
    },
    {
     "name": "stdout",
     "output_type": "stream",
     "text": [
      "Tcs\n"
     ]
    }
   ],
   "source": [
    "skill = input(\"Enter your Skill : \")\n",
    "experience = int(input(\"Enter your Experience : \"))\n",
    "native = input(\"Enter your Native : \")\n",
    "if skill == \"python\":\n",
    "  if experience == 1:\n",
    "      if native == \"chennai\":\n",
    "        print(\"wipro\")\n",
    "  elif experience == 2:\n",
    "        print(\"Tcs\")\n",
    "  else:\n",
    "        print(\"Not match\")\n",
    "else:\n",
    "        print(\"Not match\")"
   ]
  },
  {
   "cell_type": "code",
   "execution_count": 31,
   "id": "0252e033-e30e-4cf5-ad74-f9c6a4bfb6f3",
   "metadata": {},
   "outputs": [
    {
     "name": "stdin",
     "output_type": "stream",
     "text": [
      "Enter your skill :  java\n",
      "Enter your Experience : 1\n",
      "Enter your Native :  chennai\n"
     ]
    },
    {
     "name": "stdout",
     "output_type": "stream",
     "text": [
      "Not match\n"
     ]
    }
   ],
   "source": [
    "skill = input(\"Enter your skill : \")\n",
    "experience = int(input(\"Enter your Experience :\"))\n",
    "native = input(\"Enter your Native : \")\n",
    "if skill == \"python\":\n",
    "    if experience ==1:\n",
    "       if native == \"chennai\":\n",
    "           print(\"Wipro\")\n",
    "elif experience ==2:\n",
    "           print(\"Tcs\")\n",
    "else:\n",
    "           print(\"Not match\")\n",
    "    \n"
   ]
  },
  {
   "cell_type": "code",
   "execution_count": 36,
   "id": "bf2b0622-6e5a-4a0a-a541-c262a5cad04c",
   "metadata": {},
   "outputs": [
    {
     "name": "stdin",
     "output_type": "stream",
     "text": [
      "Enter the Skill : java\n",
      "Enter the Experience :  1\n",
      "Enter the Native :  Coimbatore\n"
     ]
    },
    {
     "name": "stdout",
     "output_type": "stream",
     "text": [
      "Congizant\n"
     ]
    }
   ],
   "source": [
    "skill = input(\"Enter the Skill :\")\n",
    "Experience = int(input(\"Enter the Experience : \"))\n",
    "Native = input(\"Enter the Native : \")\n",
    "if skill == \"java\":\n",
    "    if Experience == 1:\n",
    "        if Native == \"Coimbatore\":\n",
    "              print(\"Congizant\")\n",
    "elif Experience == 2:\n",
    "              print(\"Accenture\")\n",
    "else:\n",
    "              print(\"Not Match\")"
   ]
  },
  {
   "cell_type": "code",
   "execution_count": 62,
   "id": "a7bf2fe1-0ed9-4582-879b-f1d8d024ce22",
   "metadata": {},
   "outputs": [
    {
     "name": "stdin",
     "output_type": "stream",
     "text": [
      "Enter the Skill :  java\n",
      "Enter the Experience :  2\n",
      "Enter the Native :  coimbatore\n"
     ]
    },
    {
     "name": "stdout",
     "output_type": "stream",
     "text": [
      "Accenture\n"
     ]
    }
   ],
   "source": [
    "skill = input (\"Enter the Skill : \")\n",
    "Experience = int(input(\"Enter the Experience : \"))\n",
    "Native = input(\"Enter the Native : \")\n",
    "if skill == \"java\":\n",
    "    if Experience == 1:\n",
    "        if Native == \"Coimbatore\":\n",
    "            print(\"Congizant\")\n",
    "    elif Experience == 2:\n",
    "            print(\"Accenture\")\n",
    "    else:\n",
    "            print(\"Not Match\")\n",
    "else:\n",
    "            print(\"Not Match\")\n"
   ]
  },
  {
   "cell_type": "code",
   "execution_count": 59,
   "id": "4caf9f1f-9c80-483f-9abf-006a8986e84c",
   "metadata": {},
   "outputs": [
    {
     "name": "stdin",
     "output_type": "stream",
     "text": [
      "Enter the Skill :  python\n",
      "Enter the Experience :  2\n",
      "Enter the Native :  coimbatore\n"
     ]
    },
    {
     "name": "stdout",
     "output_type": "stream",
     "text": [
      "Not Match\n"
     ]
    }
   ],
   "source": [
    "skill = input (\"Enter the Skill : \")\n",
    "Experience = int(input(\"Enter the Experience : \"))\n",
    "Native = input(\"Enter the Native : \")\n",
    "\n",
    "if skill == \"java\":\n",
    "    if Experience == 1:\n",
    "        if Native == \"coimbatore\":\n",
    "            print(\"Congizant\")\n",
    "    elif Experience == 2:\n",
    "            print(\"Accenture\")\n",
    "\n",
    "    else:\n",
    "            print(\"Not Match\")\n",
    "else:\n",
    "            print(\"Not Match\")\n"
   ]
  },
  {
   "cell_type": "code",
   "execution_count": 63,
   "id": "aa8593c5-11ed-44e9-995b-5f1dfba9395e",
   "metadata": {},
   "outputs": [
    {
     "name": "stdin",
     "output_type": "stream",
     "text": [
      "Enter the Skill :  Data science\n",
      "Enter the Experience :  1\n",
      "Enter the Native :  Banglore\n"
     ]
    },
    {
     "name": "stdout",
     "output_type": "stream",
     "text": [
      "Not Match\n"
     ]
    }
   ],
   "source": [
    "skill = input(\"Enter the Skill : \")\n",
    "Experience = int(input(\"Enter the Experience : \"))\n",
    "Native = input(\"Enter the Native : \")\n",
    "\n",
    "if skill == \"java\":\n",
    "    if Experience == 1 and Native == \"Coimbatore\":\n",
    "        print(\"Cognizant\")\n",
    "    elif Experience == 2:\n",
    "        print(\"Accenture\")\n",
    "    else:\n",
    "        print(\"Not Match\")\n",
    "else:\n",
    "    print(\"Not Match\")\n"
   ]
  },
  {
   "cell_type": "code",
   "execution_count": 66,
   "id": "963391fb-02af-4db4-a354-3b1ca57da821",
   "metadata": {},
   "outputs": [
    {
     "name": "stdin",
     "output_type": "stream",
     "text": [
      "Enter your Skill :  Java\n",
      "Enter your Experience :  2\n",
      "Enter your Native :  Coimbatore\n"
     ]
    },
    {
     "name": "stdout",
     "output_type": "stream",
     "text": [
      "Accenture\n"
     ]
    }
   ],
   "source": [
    "skill = input(\"Enter your Skill : \")\n",
    "Experience = int(input(\"Enter your Experience : \"))\n",
    "Native = input(\"Enter your Native : \")\n",
    "\n",
    "if skill == \"Java\":\n",
    "   if Experience == 2 and Native == \"Coimbatore\":\n",
    "    print(\"Accenture\")\n",
    "else:\n",
    "    print(\"Not Match\")"
   ]
  },
  {
   "cell_type": "code",
   "execution_count": 71,
   "id": "a0daf13a-fe50-4d50-a8b5-cb75318c21c7",
   "metadata": {},
   "outputs": [
    {
     "name": "stdin",
     "output_type": "stream",
     "text": [
      "Enter your Skill :  Java\n",
      "Enter your Experience :  2\n",
      "Enter your Native :  Chennai\n"
     ]
    },
    {
     "name": "stdout",
     "output_type": "stream",
     "text": [
      "Trios\n"
     ]
    }
   ],
   "source": [
    "skill = input(\"Enter your Skill : \")\n",
    "Experience = int(input(\"Enter your Experience : \"))\n",
    "Native = input(\"Enter your Native : \")\n",
    "\n",
    "if skill == \"Java\":\n",
    "    if Experience == 2 :\n",
    "        if Native == \"Chennai\":\n",
    "           print (\"Trios\")\n",
    "    else :\n",
    "           print(\"Not Match\")\n",
    "else :\n",
    "           print(\"Not Match\")\n",
    "  \n",
    "            "
   ]
  },
  {
   "cell_type": "code",
   "execution_count": 73,
   "id": "3a3859ed-fb69-4482-b7ec-6186c9f3f2ef",
   "metadata": {},
   "outputs": [
    {
     "name": "stdin",
     "output_type": "stream",
     "text": [
      "Enter your Skill :  Java\n",
      "Enter Your Experience :  1\n",
      "Enter your Native :  Chennai\n"
     ]
    },
    {
     "name": "stdout",
     "output_type": "stream",
     "text": [
      "HCL\n"
     ]
    }
   ],
   "source": [
    "Skill = input(\"Enter your Skill : \")\n",
    "Experience = int(input(\"Enter Your Experience : \"))\n",
    "Native = input(\"Enter your Native : \")\n",
    "\n",
    "if Skill == \"Java\":\n",
    "    if Experience == 1:\n",
    "         if Native == \"Chennai\":\n",
    "             print(\"HCL\")\n",
    "    else :\n",
    "        print(\"Not Match\")\n",
    "else :\n",
    "        print(\"Not Match\")       \n",
    "               "
   ]
  },
  {
   "cell_type": "code",
   "execution_count": null,
   "id": "ad9193fc-0820-405f-8043-0c4f7755bfe5",
   "metadata": {},
   "outputs": [],
   "source": []
  }
 ],
 "metadata": {
  "kernelspec": {
   "display_name": "Python [conda env:anaconda3]",
   "language": "python",
   "name": "conda-env-anaconda3-py"
  },
  "language_info": {
   "codemirror_mode": {
    "name": "ipython",
    "version": 3
   },
   "file_extension": ".py",
   "mimetype": "text/x-python",
   "name": "python",
   "nbconvert_exporter": "python",
   "pygments_lexer": "ipython3",
   "version": "3.13.5"
  }
 },
 "nbformat": 4,
 "nbformat_minor": 5
}
