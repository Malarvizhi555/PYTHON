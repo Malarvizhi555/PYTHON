{
 "cells": [
  {
   "cell_type": "code",
   "execution_count": 4,
   "id": "a4e9d4f0-6e86-4015-a812-d445cc1773ef",
   "metadata": {},
   "outputs": [
    {
     "name": "stdout",
     "output_type": "stream",
     "text": [
      "15\n"
     ]
    }
   ],
   "source": [
    "a=5\n",
    "b=15\n",
    "c=6\n",
    "if a>b and a>c:\n",
    "    print(a)\n",
    "elif b>a and b>c:\n",
    "    print(b)\n",
    "else:\n",
    "    print(c)"
   ]
  },
  {
   "cell_type": "code",
   "execution_count": null,
   "id": "be775ade-7925-452a-b84f-36d1fbd819b8",
   "metadata": {},
   "outputs": [],
   "source": [
    "a=5\n",
    "b=15\n",
    "c=6\n",
    "if a>b>c"
   ]
  },
  {
   "cell_type": "code",
   "execution_count": 9,
   "id": "43befe67-d4a9-457f-aa7c-933a5cde4cc4",
   "metadata": {},
   "outputs": [
    {
     "name": "stdout",
     "output_type": "stream",
     "text": [
      "define\n"
     ]
    }
   ],
   "source": [
    "a = \"apple\"\n",
    "if \"a\" in a:\n",
    "    print( \"define\")\n",
    "else:\n",
    "        print(\"not define\")"
   ]
  },
  {
   "cell_type": "code",
   "execution_count": 12,
   "id": "f30047c3-9716-43df-bba5-7bbf815ce13b",
   "metadata": {},
   "outputs": [
    {
     "name": "stdin",
     "output_type": "stream",
     "text": [
      "Enter your skill python\n",
      "Enter your exp 1\n"
     ]
    },
    {
     "name": "stdout",
     "output_type": "stream",
     "text": [
      "wipro\n"
     ]
    }
   ],
   "source": [
    "skill = input (\"Enter your skill\")\n",
    "exp =int(input(\"Enter your exp\"))\n",
    "if skill ==\"python\":\n",
    "  if exp ==1:\n",
    "   print(\"wipro\")\n",
    "elif exp==2:\n",
    " print(\"TCS\")\n",
    "else:\n",
    "    print(\"not match\")\n",
    "\n"
   ]
  },
  {
   "cell_type": "code",
   "execution_count": 25,
   "id": "c018cb93-b0a2-4ed1-a8b2-f044249235f7",
   "metadata": {},
   "outputs": [
    {
     "name": "stdin",
     "output_type": "stream",
     "text": [
      "Enter your skill python\n",
      "Enter your exp 2\n"
     ]
    }
   ],
   "source": [
    "skill = input (\"Enter your skill\")\n",
    "exp =int(input(\"Enter your exp\"))\n",
    "\n",
    "if skill ==\"python\":\n",
    "  if exp ==1:\n",
    "      print(\"wipro\")\n",
    "elif exp==2:\n",
    "      print(\"TCS\")\n",
    "else:\n",
    "      print(\"not match\")\n"
   ]
  },
  {
   "cell_type": "code",
   "execution_count": 26,
   "id": "8c0b6fad-c4d9-4fc2-acdf-89839c6f4535",
   "metadata": {},
   "outputs": [
    {
     "name": "stdin",
     "output_type": "stream",
     "text": [
      "Enter your skill python \n",
      "Enter your exp 3\n"
     ]
    },
    {
     "name": "stdout",
     "output_type": "stream",
     "text": [
      "not match\n"
     ]
    }
   ],
   "source": [
    "skill = input (\"Enter your skill\")\n",
    "exp = int(input(\"Enter your exp\"))\n",
    "\n",
    "if skill == \"python\":\n",
    "    if exp == 1:\n",
    "        print(\"wipro\")\n",
    "elif exp == 2:  \n",
    "    print(\"TCS\")\n",
    "else:\n",
    "    print(\"not match\")\n"
   ]
  },
  {
   "cell_type": "code",
   "execution_count": null,
   "id": "b8e957e8-94ce-4bae-9663-da1b6f943363",
   "metadata": {},
   "outputs": [],
   "source": []
  }
 ],
 "metadata": {
  "kernelspec": {
   "display_name": "Python [conda env:anaconda3]",
   "language": "python",
   "name": "conda-env-anaconda3-py"
  },
  "language_info": {
   "codemirror_mode": {
    "name": "ipython",
    "version": 3
   },
   "file_extension": ".py",
   "mimetype": "text/x-python",
   "name": "python",
   "nbconvert_exporter": "python",
   "pygments_lexer": "ipython3",
   "version": "3.13.5"
  }
 },
 "nbformat": 4,
 "nbformat_minor": 5
}
