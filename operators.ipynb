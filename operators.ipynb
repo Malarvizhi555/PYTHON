{
 "cells": [
  {
   "cell_type": "markdown",
   "id": "50f0d696-085f-43ea-8b75-a3142bbc3e83",
   "metadata": {},
   "source": [
    "# Arithemetic operator\n",
    "a=2\n",
    "b=10\n",
    "print(a+b)\n"
   ]
  },
  {
   "cell_type": "code",
   "execution_count": 8,
   "id": "5e2c86f5-ac95-4ab5-a923-197d1e41bc40",
   "metadata": {},
   "outputs": [
    {
     "name": "stdout",
     "output_type": "stream",
     "text": [
      "13\n"
     ]
    }
   ],
   "source": [
    "\n",
    "\n",
    "a= 10\n",
    "b= 3\n",
    "print(a+b)"
   ]
  },
  {
   "cell_type": "code",
   "execution_count": 1,
   "id": "b68f9654-c09f-47e3-a5cf-4380b3e85201",
   "metadata": {},
   "outputs": [
    {
     "name": "stdin",
     "output_type": "stream",
     "text": [
      " enter the number 7\n",
      "enter the number 5\n"
     ]
    },
    {
     "name": "stdout",
     "output_type": "stream",
     "text": [
      "12\n"
     ]
    }
   ],
   "source": [
    "a=int(input(\" enter the number\"))\n",
    "b=int(input(\"enter the number\"))\n",
    "print(a + b)"
   ]
  },
  {
   "cell_type": "code",
   "execution_count": 2,
   "id": "c7ac43ff-36a1-45dc-a38b-d044d964dab5",
   "metadata": {},
   "outputs": [
    {
     "name": "stdout",
     "output_type": "stream",
     "text": [
      "2\n"
     ]
    }
   ],
   "source": [
    "print(a-b)"
   ]
  },
  {
   "cell_type": "code",
   "execution_count": 3,
   "id": "270a1822-e6cb-40e4-8787-284572386f03",
   "metadata": {},
   "outputs": [
    {
     "name": "stdout",
     "output_type": "stream",
     "text": [
      "35\n"
     ]
    }
   ],
   "source": [
    "print(a*b)"
   ]
  },
  {
   "cell_type": "code",
   "execution_count": 4,
   "id": "01b4c89b-6445-4ab5-9a84-2c2d4742b95f",
   "metadata": {},
   "outputs": [
    {
     "name": "stdout",
     "output_type": "stream",
     "text": [
      "1.4\n"
     ]
    }
   ],
   "source": [
    "print(a/b)"
   ]
  },
  {
   "cell_type": "code",
   "execution_count": 7,
   "id": "febc73e6-29cc-47cb-96d5-cceb27adbb03",
   "metadata": {},
   "outputs": [
    {
     "name": "stdout",
     "output_type": "stream",
     "text": [
      "2\n"
     ]
    }
   ],
   "source": [
    "print(a%b)"
   ]
  },
  {
   "cell_type": "code",
   "execution_count": 5,
   "id": "86a2f9c6-8dd0-4b4f-b3a7-41963140c88f",
   "metadata": {},
   "outputs": [
    {
     "name": "stdout",
     "output_type": "stream",
     "text": [
      "1\n"
     ]
    }
   ],
   "source": [
    "print(a//b)"
   ]
  },
  {
   "cell_type": "code",
   "execution_count": 6,
   "id": "bf2cef68-5453-4a71-ba49-ffdf2e45472f",
   "metadata": {},
   "outputs": [
    {
     "name": "stdout",
     "output_type": "stream",
     "text": [
      "16807\n"
     ]
    }
   ],
   "source": [
    "print(a**b)"
   ]
  },
  {
   "cell_type": "code",
   "execution_count": 8,
   "id": "2d05abc0-a4eb-44de-8917-9154064996fa",
   "metadata": {},
   "outputs": [
    {
     "name": "stdout",
     "output_type": "stream",
     "text": [
      "8\n"
     ]
    }
   ],
   "source": [
    "#ASSIGMENT OPERATORS\n",
    "\n",
    "a = 5\n",
    "a = a+3\n",
    "print(a)"
   ]
  },
  {
   "cell_type": "code",
   "execution_count": 9,
   "id": "0285f898-1451-45a5-bbee-ae142ed77f39",
   "metadata": {},
   "outputs": [
    {
     "name": "stdout",
     "output_type": "stream",
     "text": [
      "11\n"
     ]
    }
   ],
   "source": [
    "a += 3\n",
    "print(a)"
   ]
  },
  {
   "cell_type": "code",
   "execution_count": 10,
   "id": "132114d0-0edd-4273-a548-d4f0508cbfcd",
   "metadata": {},
   "outputs": [
    {
     "name": "stdout",
     "output_type": "stream",
     "text": [
      "8\n"
     ]
    }
   ],
   "source": [
    "a -= 3\n",
    "print(a)"
   ]
  },
  {
   "cell_type": "code",
   "execution_count": 11,
   "id": "b00ba814-1ae3-4147-9c86-780e558a1713",
   "metadata": {},
   "outputs": [
    {
     "name": "stdout",
     "output_type": "stream",
     "text": [
      "24\n"
     ]
    }
   ],
   "source": [
    "a *= 3\n",
    "print(a)"
   ]
  },
  {
   "cell_type": "code",
   "execution_count": 12,
   "id": "3003fd21-d054-4b73-84b3-a2e041a54410",
   "metadata": {},
   "outputs": [
    {
     "name": "stdout",
     "output_type": "stream",
     "text": [
      "8.0\n"
     ]
    }
   ],
   "source": [
    "a /= 3\n",
    "print(a)"
   ]
  },
  {
   "cell_type": "code",
   "execution_count": 13,
   "id": "82e3534b-2b9c-47a7-9eb1-3d0854471d92",
   "metadata": {},
   "outputs": [
    {
     "name": "stdout",
     "output_type": "stream",
     "text": [
      "2.0\n"
     ]
    }
   ],
   "source": [
    "a //= 3\n",
    "print(a)"
   ]
  },
  {
   "cell_type": "code",
   "execution_count": 14,
   "id": "f4985f50-e555-4182-8214-9e6b5f36334b",
   "metadata": {},
   "outputs": [
    {
     "name": "stdout",
     "output_type": "stream",
     "text": [
      "2.0\n"
     ]
    }
   ],
   "source": [
    "a %= 3\n",
    "print(a)"
   ]
  },
  {
   "cell_type": "code",
   "execution_count": 15,
   "id": "cc58e37f-5f39-4d6e-ae52-437ca6532067",
   "metadata": {},
   "outputs": [
    {
     "name": "stdout",
     "output_type": "stream",
     "text": [
      "8.0\n"
     ]
    }
   ],
   "source": [
    "a **= 3\n",
    "print(a)"
   ]
  },
  {
   "cell_type": "code",
   "execution_count": 16,
   "id": "04be9d1e-f13f-42f9-9207-ccc9bd026cbe",
   "metadata": {},
   "outputs": [
    {
     "name": "stdout",
     "output_type": "stream",
     "text": [
      "False\n"
     ]
    }
   ],
   "source": [
    "#COMPARISON OPERATORS\n",
    "\n",
    "a = 15\n",
    "b = 15\n",
    "print (a>b)"
   ]
  },
  {
   "cell_type": "code",
   "execution_count": 17,
   "id": "8d518dfb-3206-4a32-8a27-5d17c8882c42",
   "metadata": {},
   "outputs": [
    {
     "name": "stdout",
     "output_type": "stream",
     "text": [
      "True\n"
     ]
    }
   ],
   "source": [
    "print (a==b)"
   ]
  },
  {
   "cell_type": "code",
   "execution_count": 18,
   "id": "b8848b5d-c6cf-4b7f-99f2-578a33c07b1c",
   "metadata": {},
   "outputs": [
    {
     "name": "stdout",
     "output_type": "stream",
     "text": [
      "False\n"
     ]
    }
   ],
   "source": [
    "print (a<b)"
   ]
  },
  {
   "cell_type": "code",
   "execution_count": 19,
   "id": "e3e27659-80a9-4f36-bcf6-23f9dca05111",
   "metadata": {},
   "outputs": [
    {
     "name": "stdout",
     "output_type": "stream",
     "text": [
      "False\n"
     ]
    }
   ],
   "source": [
    "print (a!=b)"
   ]
  },
  {
   "cell_type": "code",
   "execution_count": 20,
   "id": "e1f0460a-eb64-4ae9-a64b-8a2805380c2e",
   "metadata": {},
   "outputs": [
    {
     "name": "stdout",
     "output_type": "stream",
     "text": [
      "True\n"
     ]
    }
   ],
   "source": [
    "print (a>=b)"
   ]
  },
  {
   "cell_type": "code",
   "execution_count": 21,
   "id": "0b13dcde-4f36-47ab-8378-6dd9ee7266ad",
   "metadata": {},
   "outputs": [
    {
     "name": "stdout",
     "output_type": "stream",
     "text": [
      "True\n"
     ]
    }
   ],
   "source": [
    "print (a<=b)"
   ]
  },
  {
   "cell_type": "code",
   "execution_count": 22,
   "id": "9ed30892-e49e-4b0a-af2d-6a5d540d8aa7",
   "metadata": {},
   "outputs": [
    {
     "name": "stdout",
     "output_type": "stream",
     "text": [
      "False\n",
      "True\n",
      "True\n",
      "False\n",
      "True\n",
      "False\n"
     ]
    }
   ],
   "source": [
    "a=65\n",
    "b=45\n",
    "print (a==b)\n",
    "print (a!=b)\n",
    "print (a>b)\n",
    "print (a<b)\n",
    "print (a>=b)\n",
    "print (a<=b)"
   ]
  },
  {
   "cell_type": "code",
   "execution_count": 25,
   "id": "c0c6b2bf-c072-449b-ad19-b56e5ea5448a",
   "metadata": {},
   "outputs": [
    {
     "name": "stdout",
     "output_type": "stream",
     "text": [
      "True\n"
     ]
    }
   ],
   "source": [
    "# logical operator\n",
    "\n",
    "a=10\n",
    "b=7\n",
    "print (a>5 and b<50)"
   ]
  },
  {
   "cell_type": "code",
   "execution_count": 24,
   "id": "f0308df3-71a5-44f9-a483-274e0f65e19c",
   "metadata": {},
   "outputs": [
    {
     "name": "stdout",
     "output_type": "stream",
     "text": [
      "True\n"
     ]
    }
   ],
   "source": [
    "print (a>5 or b<50)"
   ]
  },
  {
   "cell_type": "code",
   "execution_count": 23,
   "id": "b6943046-f7db-4767-9ba3-4966fa629028",
   "metadata": {},
   "outputs": [
    {
     "name": "stdout",
     "output_type": "stream",
     "text": [
      "False\n"
     ]
    }
   ],
   "source": [
    "print (not(a>5 or b<50))"
   ]
  },
  {
   "cell_type": "code",
   "execution_count": 15,
   "id": "48c2ccea-8ea0-4b27-8578-bc5b12b56a34",
   "metadata": {},
   "outputs": [
    {
     "name": "stdout",
     "output_type": "stream",
     "text": [
      "False\n",
      "True\n"
     ]
    }
   ],
   "source": [
    "#IDENTIFY OPERATORS\n",
    "\n",
    "x = 257\n",
    "y = 257\n",
    "print(x is y)\n"
   ]
  },
  {
   "cell_type": "code",
   "execution_count": 16,
   "id": "5e2ae545-5e54-4cb4-aef7-823a6d7a2fd4",
   "metadata": {},
   "outputs": [
    {
     "name": "stdout",
     "output_type": "stream",
     "text": [
      "True\n"
     ]
    }
   ],
   "source": [
    "print(x is not y)"
   ]
  },
  {
   "cell_type": "code",
   "execution_count": 26,
   "id": "e93d15ee-17f8-4f92-b982-da1a696290af",
   "metadata": {},
   "outputs": [
    {
     "name": "stdout",
     "output_type": "stream",
     "text": [
      "False\n"
     ]
    }
   ],
   "source": [
    "# MEMBERSHIP OPERATORS\n",
    "# IN and NOT IN\n",
    "\n",
    "a = \"apple\"\n",
    "print(\"e\" not in a)"
   ]
  },
  {
   "cell_type": "code",
   "execution_count": 27,
   "id": "76977a68-1bd5-4240-9b9d-c63447f7513a",
   "metadata": {},
   "outputs": [
    {
     "name": "stdout",
     "output_type": "stream",
     "text": [
      "True\n"
     ]
    }
   ],
   "source": [
    "a = \"hi hello apple\"\n",
    "print(\"hi\" in a)"
   ]
  },
  {
   "cell_type": "code",
   "execution_count": 28,
   "id": "857741fa-6ec6-4d1e-a558-a9ec6b398c09",
   "metadata": {},
   "outputs": [
    {
     "data": {
      "text/plain": [
       "False"
      ]
     },
     "execution_count": 28,
     "metadata": {},
     "output_type": "execute_result"
    }
   ],
   "source": [
    "a = (1, 2, 4, 5) \n",
    "7 in a"
   ]
  },
  {
   "cell_type": "code",
   "execution_count": 30,
   "id": "76ef3e47-a703-4581-a862-342eefcc6c2d",
   "metadata": {},
   "outputs": [
    {
     "data": {
      "text/plain": [
       "True"
      ]
     },
     "execution_count": 30,
     "metadata": {},
     "output_type": "execute_result"
    }
   ],
   "source": [
    "7 not in a"
   ]
  },
  {
   "cell_type": "code",
   "execution_count": 32,
   "id": "c86d1310-50ed-4f7d-980a-4a452471577e",
   "metadata": {},
   "outputs": [
    {
     "data": {
      "text/plain": [
       "True"
      ]
     },
     "execution_count": 32,
     "metadata": {},
     "output_type": "execute_result"
    }
   ],
   "source": [
    "4 in a"
   ]
  },
  {
   "cell_type": "code",
   "execution_count": 33,
   "id": "83b4869e-f703-4ff8-814c-992c4c6dae2e",
   "metadata": {},
   "outputs": [
    {
     "data": {
      "text/plain": [
       "False"
      ]
     },
     "execution_count": 33,
     "metadata": {},
     "output_type": "execute_result"
    }
   ],
   "source": [
    "4 not in a"
   ]
  },
  {
   "cell_type": "code",
   "execution_count": 1,
   "id": "08a95610-0b4f-415e-9ce6-6eeacfae5f82",
   "metadata": {},
   "outputs": [
    {
     "name": "stdout",
     "output_type": "stream",
     "text": [
      "0\n"
     ]
    }
   ],
   "source": [
    "#BITWISE OPERATORS\n",
    "#& → Like logical AND (only 1 & 1 = 1).\n",
    "a=10\n",
    "b=4\n",
    "print(a & b)"
   ]
  },
  {
   "cell_type": "code",
   "execution_count": 2,
   "id": "8a34f4c6-3913-4e91-9cd5-7958d71e73a0",
   "metadata": {},
   "outputs": [
    {
     "name": "stdout",
     "output_type": "stream",
     "text": [
      "14\n"
     ]
    }
   ],
   "source": [
    "#| → Like logical OR (1 or 0 = 1).\n",
    "print(a | b)"
   ]
  },
  {
   "cell_type": "code",
   "execution_count": 3,
   "id": "72022988-f33a-460f-9361-802c8264c058",
   "metadata": {},
   "outputs": [
    {
     "name": "stdout",
     "output_type": "stream",
     "text": [
      "15\n"
     ]
    }
   ],
   "source": [
    "print(11 |  12)"
   ]
  },
  {
   "cell_type": "code",
   "execution_count": 4,
   "id": "35093587-0fbc-4b97-9e7c-8a157e6f4532",
   "metadata": {},
   "outputs": [
    {
     "name": "stdout",
     "output_type": "stream",
     "text": [
      "14\n"
     ]
    }
   ],
   "source": [
    "#^ → Like logical XOR (different = 1, same = 0).\n",
    "\n",
    "print(10 ^ 4) "
   ]
  },
  {
   "cell_type": "code",
   "execution_count": 5,
   "id": "090d4430-7fd6-41a7-ab3f-f43f15f10c18",
   "metadata": {},
   "outputs": [
    {
     "name": "stdout",
     "output_type": "stream",
     "text": [
      "-11\n"
     ]
    }
   ],
   "source": [
    "#~ → Flips all bits (turns positive → negative).\n",
    "\n",
    "print (~a)"
   ]
  },
  {
   "cell_type": "code",
   "execution_count": 10,
   "id": "d038f0c2-699e-4370-8386-fcffea31e8c2",
   "metadata": {},
   "outputs": [
    {
     "name": "stdout",
     "output_type": "stream",
     "text": [
      "40\n"
     ]
    }
   ],
   "source": [
    "#<< → Shift left → multiply.\n",
    "\n",
    "a=10\n",
    "b=4\n",
    "print(a << 2)"
   ]
  },
  {
   "cell_type": "code",
   "execution_count": 11,
   "id": "e43202c7-b251-4cfc-b25c-78b88c1f3003",
   "metadata": {},
   "outputs": [
    {
     "name": "stdout",
     "output_type": "stream",
     "text": [
      "12\n"
     ]
    }
   ],
   "source": [
    "print(3 << 2)"
   ]
  },
  {
   "cell_type": "code",
   "execution_count": 12,
   "id": "ed91ffb2-d038-4a79-9228-c5f44603453c",
   "metadata": {},
   "outputs": [
    {
     "name": "stdout",
     "output_type": "stream",
     "text": [
      "2\n"
     ]
    }
   ],
   "source": [
    "#>> → Shift right → divide.\n",
    "\n",
    "print(8 >> 2)"
   ]
  },
  {
   "cell_type": "code",
   "execution_count": 13,
   "id": "90a4d7da-1353-482b-9b9d-1b66a8cf9a6f",
   "metadata": {},
   "outputs": [
    {
     "name": "stdout",
     "output_type": "stream",
     "text": [
      "2\n"
     ]
    }
   ],
   "source": [
    "a= 10\n",
    "b= 4\n",
    "print(a >> 2) "
   ]
  },
  {
   "cell_type": "code",
   "execution_count": null,
   "id": "6b1dec11-f9a3-4299-bdfa-2914f089bd29",
   "metadata": {},
   "outputs": [],
   "source": []
  }
 ],
 "metadata": {
  "kernelspec": {
   "display_name": "Python [conda env:anaconda3]",
   "language": "python",
   "name": "conda-env-anaconda3-py"
  },
  "language_info": {
   "codemirror_mode": {
    "name": "ipython",
    "version": 3
   },
   "file_extension": ".py",
   "mimetype": "text/x-python",
   "name": "python",
   "nbconvert_exporter": "python",
   "pygments_lexer": "ipython3",
   "version": "3.13.5"
  }
 },
 "nbformat": 4,
 "nbformat_minor": 5
}
