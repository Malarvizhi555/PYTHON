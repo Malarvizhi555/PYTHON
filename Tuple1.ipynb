{
 "cells": [
  {
   "cell_type": "code",
   "execution_count": 2,
   "id": "055e8373-3b8b-4599-a298-cddb97415862",
   "metadata": {},
   "outputs": [
    {
     "ename": "NameError",
     "evalue": "name 'replace' is not defined",
     "output_type": "error",
     "traceback": [
      "\u001b[1;31m---------------------------------------------------------------------------\u001b[0m",
      "\u001b[1;31mNameError\u001b[0m                                 Traceback (most recent call last)",
      "Cell \u001b[1;32mIn[2], line 2\u001b[0m\n\u001b[0;32m      1\u001b[0m k \u001b[38;5;241m=\u001b[39m \u001b[38;5;124m\"\u001b[39m\u001b[38;5;124mHi\u001b[39m\u001b[38;5;124m\"\u001b[39m, \u001b[38;5;124m\"\u001b[39m\u001b[38;5;124mHello\u001b[39m\u001b[38;5;124m\"\u001b[39m\n\u001b[1;32m----> 2\u001b[0m K\u001b[38;5;241m=\u001b[39m replace(\u001b[38;5;124m'\u001b[39m\u001b[38;5;124me\u001b[39m\u001b[38;5;124m'\u001b[39m, \u001b[38;5;124m'\u001b[39m\u001b[38;5;124mk\u001b[39m\u001b[38;5;124m'\u001b[39m)\n",
      "\u001b[1;31mNameError\u001b[0m: name 'replace' is not defined"
     ]
    }
   ],
   "source": [
    "k = \"Hi\", \"Hello\"\n",
    "K= replace('e', 'k')"
   ]
  },
  {
   "cell_type": "code",
   "execution_count": 4,
   "id": "7f8cfebe-cda8-45f9-8143-460f626dca15",
   "metadata": {},
   "outputs": [
    {
     "name": "stdout",
     "output_type": "stream",
     "text": [
      "('Hi', 'How')\n"
     ]
    }
   ],
   "source": [
    "k = (\"Hi\", \"Hello\", \"How\")\n",
    "M = list(k)\n",
    "M.remove(\"Hello\")\n",
    "k = tuple(M)\n",
    "print(k)"
   ]
  },
  {
   "cell_type": "code",
   "execution_count": 1,
   "id": "35d3ef85-252a-472d-8921-5c24ac8734b2",
   "metadata": {},
   "outputs": [
    {
     "name": "stdout",
     "output_type": "stream",
     "text": [
      "{'apple', 'cherry'}\n"
     ]
    }
   ],
   "source": [
    "myset = {\"apple\", \"banana\", \"cherry\"}\n",
    "\n",
    "myset.remove(\"banana\")\n",
    "\n",
    "print(myset)"
   ]
  },
  {
   "cell_type": "code",
   "execution_count": 2,
   "id": "ddc13938-6b2a-4677-a9a8-d43ba1743811",
   "metadata": {},
   "outputs": [
    {
     "name": "stdout",
     "output_type": "stream",
     "text": [
      "{'banana', 'hji', 9, 'apple', 78, 'hello'}\n",
      "banana\n"
     ]
    }
   ],
   "source": [
    "myset = { \"banana\",\"apple\",\"hji\",9,78,\"hello\"}\n",
    "print(myset)\n",
    "x = myset.pop()\n",
    "\n",
    "print(x)"
   ]
  },
  {
   "cell_type": "code",
   "execution_count": 8,
   "id": "d6d5fe3f-3a88-4312-bf56-2e458fd8da76",
   "metadata": {},
   "outputs": [
    {
     "name": "stdout",
     "output_type": "stream",
     "text": [
      "set()\n"
     ]
    }
   ],
   "source": [
    "myset = {\"apple\", \"banana\", \"cherry\"}\n",
    "myset.clear()\n",
    "print(myset)\n",
    "del myset\n",
    "myset"
   ]
  },
  {
   "cell_type": "code",
   "execution_count": 6,
   "id": "1e04d41a-2465-4b6c-a618-97bcc06468a4",
   "metadata": {},
   "outputs": [
    {
     "name": "stdout",
     "output_type": "stream",
     "text": [
      "{'k': 90, 'L': 80, 'M': 60}\n"
     ]
    }
   ],
   "source": [
    "D = {\"k\" : 90, \"L\" : 80, \"M\" : 60}\n",
    "print(D)"
   ]
  },
  {
   "cell_type": "code",
   "execution_count": 9,
   "id": "f38275bb-e209-4572-8c51-48ae72584b1c",
   "metadata": {},
   "outputs": [
    {
     "name": "stdout",
     "output_type": "stream",
     "text": [
      "dict_keys(['k', 'L', 'M'])\n"
     ]
    }
   ],
   "source": [
    "D = {\"k\" : 90, \"L\" : 80, \"M\" : 60}\n",
    "print(D.keys())"
   ]
  },
  {
   "cell_type": "code",
   "execution_count": 10,
   "id": "f2a2a176-51d1-4f1d-a843-fa19b3091340",
   "metadata": {},
   "outputs": [
    {
     "name": "stdout",
     "output_type": "stream",
     "text": [
      "dict_values([90, 80, 60])\n"
     ]
    }
   ],
   "source": [
    "D = {\"k\" : 90, \"L\" : 80, \"M\" : 60}\n",
    "print(D.values())"
   ]
  },
  {
   "cell_type": "code",
   "execution_count": 11,
   "id": "7933b5e8-09e7-45af-bd86-8aeb629d09af",
   "metadata": {},
   "outputs": [
    {
     "name": "stdout",
     "output_type": "stream",
     "text": [
      "dict_items([('k', 90), ('L', 80), ('M', 60)])\n"
     ]
    }
   ],
   "source": [
    "D = {\"k\" : 90, \"L\" : 80, \"M\" : 60}\n",
    "print(D.items())"
   ]
  },
  {
   "cell_type": "code",
   "execution_count": 12,
   "id": "3cb14362-cad7-48b6-a421-0a972b737fde",
   "metadata": {},
   "outputs": [],
   "source": [
    "D = {\"k\" : 90, \"L\" : 80, \"M\" : 60}\n"
   ]
  },
  {
   "cell_type": "code",
   "execution_count": 13,
   "id": "fa4cf74e-3479-4935-8445-290d45becc38",
   "metadata": {},
   "outputs": [
    {
     "data": {
      "text/plain": [
       "(1, 2, 7, 4, 6)"
      ]
     },
     "execution_count": 13,
     "metadata": {},
     "output_type": "execute_result"
    }
   ],
   "source": [
    "t=(1,2,3,4,6)\n",
    "l=list(t)\n",
    "l[2]=7\n",
    "t=tuple(l)\n",
    "t"
   ]
  },
  {
   "cell_type": "code",
   "execution_count": null,
   "id": "1fb9b267-8cc1-4349-9f5a-3c53c4f380c1",
   "metadata": {},
   "outputs": [],
   "source": []
  }
 ],
 "metadata": {
  "kernelspec": {
   "display_name": "Python [conda env:anaconda3]",
   "language": "python",
   "name": "conda-env-anaconda3-py"
  },
  "language_info": {
   "codemirror_mode": {
    "name": "ipython",
    "version": 3
   },
   "file_extension": ".py",
   "mimetype": "text/x-python",
   "name": "python",
   "nbconvert_exporter": "python",
   "pygments_lexer": "ipython3",
   "version": "3.13.5"
  }
 },
 "nbformat": 4,
 "nbformat_minor": 5
}
